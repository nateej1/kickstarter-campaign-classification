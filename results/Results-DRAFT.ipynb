{
 "cells": [
  {
   "cell_type": "markdown",
   "metadata": {},
   "source": [
    "# KICKSTARTER CAMPAIGN SUCCESS PREDICTION  \n",
    "\n",
    "* **Date Published**: 2019/08/17\n",
    "* **Collaborators**: Nateé Johnson & Misha Berrien\n",
    "* **Data Source**: https://webrobots.io/kickstarter-datasets/\n",
    "\n",
    "## INTRODUCTION\n",
    "\n",
    "Kickstarter is a US based global crowd funding platform focused on bringing funding to creative projects. Since the platform’s launch in 2009, the site has hosted over 159,000 successfully funded projects with over 15 million unique backers. Kickstarter uses an “all-or-nothing” funding system. This means that funds are only dispersed for projects that meet the original funding goal set by the creator.\n",
    "\n",
    "### Project Objective \n",
    "\n",
    "Kickstarter earns 5% commission on projects that are successfully funded. Currently, less than 40% of projects on the platform succeed. The objective is to predict which projects are likely to succeed so that these projects can be highlighted on the site either through 'staff picks' or 'featured product' lists.\n",
    "\n",
    "### Proposed Solutions\n",
    "\n",
    "1. Predict Successful Campaigns and promote those with the lowest predicted probability of being successful. \n",
    "1. Contact creators from those campaigns that are just below the “success” margin and give them insights that could help them succeed. "
   ]
  },
  {
   "cell_type": "markdown",
   "metadata": {},
   "source": [
    "## EXPLORATORY DATA ANALYSIS"
   ]
  },
  {
   "cell_type": "code",
   "execution_count": 1,
   "metadata": {},
   "outputs": [],
   "source": [
    "# read in kickstarter intermediate data \n",
    "import functools\n",
    "import glob\n",
    "import io\n",
    "import matplotlib.pyplot as plt\n",
    "import numpy as np\n",
    "import os\n",
    "import pandas as pd \n",
    "import seaborn as sns\n",
    "import sys\n",
    "\n",
    "import warnings\n",
    "warnings.filterwarnings('ignore')\n",
    "\n",
    "src_dir = os.path.join(os.getcwd(), '..', '..', 'src')\n",
    "sys.path.append(src_dir)\n",
    "\n",
    "from d01_data.live_data_cleaning import kickstarter_live_campaign_data_cleaning, prepare_missing_adaboost_columns\n",
    "from d02_intermediate.intermediate_cleaning import kickstarter_deduped_to_intermediate\n",
    "from d03_processing.feature_engineering import kickstarter_feature_engineering"
   ]
  },
  {
   "cell_type": "markdown",
   "metadata": {},
   "source": [
    "Let's load and clean our datasets. "
   ]
  },
  {
   "cell_type": "code",
   "execution_count": 2,
   "metadata": {},
   "outputs": [],
   "source": [
    "pd.set_option('display.max_columns', None)"
   ]
  },
  {
   "cell_type": "code",
   "execution_count": 58,
   "metadata": {
    "scrolled": true
   },
   "outputs": [],
   "source": [
    "kick_deduped = pd.read_csv('../../data/02_intermediate/kick_deduped.csv.zip')\n",
    "cluster_features_df =  pd.read_csv('../../data/03_processed/KNN_cluster_features_.csv')"
   ]
  },
  {
   "cell_type": "code",
   "execution_count": 4,
   "metadata": {},
   "outputs": [],
   "source": [
    "kick_inter = kickstarter_deduped_to_intermediate(kick_deduped)"
   ]
  },
  {
   "cell_type": "markdown",
   "metadata": {
    "heading_collapsed": true
   },
   "source": [
    "### Summary Stats"
   ]
  },
  {
   "cell_type": "markdown",
   "metadata": {},
   "source": [
    "### Overview of our Current Features"
   ]
  },
  {
   "cell_type": "code",
   "execution_count": 5,
   "metadata": {},
   "outputs": [
    {
     "data": {
      "text/html": [
       "<div>\n",
       "<style scoped>\n",
       "    .dataframe tbody tr th:only-of-type {\n",
       "        vertical-align: middle;\n",
       "    }\n",
       "\n",
       "    .dataframe tbody tr th {\n",
       "        vertical-align: top;\n",
       "    }\n",
       "\n",
       "    .dataframe thead th {\n",
       "        text-align: right;\n",
       "    }\n",
       "</style>\n",
       "<table border=\"1\" class=\"dataframe\">\n",
       "  <thead>\n",
       "    <tr style=\"text-align: right;\">\n",
       "      <th></th>\n",
       "      <th>backers_count</th>\n",
       "      <th>blurb</th>\n",
       "      <th>converted_pledged_amount</th>\n",
       "      <th>country</th>\n",
       "      <th>created_at</th>\n",
       "      <th>currency</th>\n",
       "      <th>currency_symbol</th>\n",
       "      <th>currency_trailing_code</th>\n",
       "      <th>current_currency</th>\n",
       "      <th>deadline</th>\n",
       "      <th>disable_communication</th>\n",
       "      <th>friends</th>\n",
       "      <th>fx_rate</th>\n",
       "      <th>goal</th>\n",
       "      <th>id</th>\n",
       "      <th>is_backing</th>\n",
       "      <th>is_starrable</th>\n",
       "      <th>is_starred</th>\n",
       "      <th>last_update_published_at</th>\n",
       "      <th>launched_at</th>\n",
       "      <th>name</th>\n",
       "      <th>permissions</th>\n",
       "      <th>pledged</th>\n",
       "      <th>slug</th>\n",
       "      <th>source_url</th>\n",
       "      <th>spotlight</th>\n",
       "      <th>staff_pick</th>\n",
       "      <th>state</th>\n",
       "      <th>state_changed_at</th>\n",
       "      <th>static_usd_rate</th>\n",
       "      <th>unread_messages_count</th>\n",
       "      <th>unseen_activity_count</th>\n",
       "      <th>urls</th>\n",
       "      <th>usd_pledged</th>\n",
       "      <th>usd_type</th>\n",
       "      <th>sub_category</th>\n",
       "      <th>overall_category</th>\n",
       "      <th>city</th>\n",
       "      <th>country_loc</th>\n",
       "      <th>state_loc</th>\n",
       "      <th>creator_name</th>\n",
       "      <th>creator_slug</th>\n",
       "    </tr>\n",
       "  </thead>\n",
       "  <tbody>\n",
       "    <tr>\n",
       "      <th>0</th>\n",
       "      <td>0</td>\n",
       "      <td>I'm just going to say it, I'm not special. I'm...</td>\n",
       "      <td>0.0</td>\n",
       "      <td>US</td>\n",
       "      <td>2019-07-15 02:59:36</td>\n",
       "      <td>USD</td>\n",
       "      <td>$</td>\n",
       "      <td>True</td>\n",
       "      <td>USD</td>\n",
       "      <td>2019-08-17 05:04:48</td>\n",
       "      <td>False</td>\n",
       "      <td>NaN</td>\n",
       "      <td>1.000000</td>\n",
       "      <td>5000.0</td>\n",
       "      <td>1893102245</td>\n",
       "      <td>NaN</td>\n",
       "      <td>True</td>\n",
       "      <td>NaN</td>\n",
       "      <td>NaN</td>\n",
       "      <td>2019-07-18 05:04:48</td>\n",
       "      <td>Shirt and hat</td>\n",
       "      <td>NaN</td>\n",
       "      <td>0.0</td>\n",
       "      <td>shirt-and-hat</td>\n",
       "      <td>https://www.kickstarter.com/discover/categorie...</td>\n",
       "      <td>False</td>\n",
       "      <td>False</td>\n",
       "      <td>live</td>\n",
       "      <td>2019-07-18 05:04:48</td>\n",
       "      <td>1.000000</td>\n",
       "      <td>NaN</td>\n",
       "      <td>NaN</td>\n",
       "      <td>{\"web\":{\"project\":\"https://www.kickstarter.com...</td>\n",
       "      <td>0.0</td>\n",
       "      <td>domestic</td>\n",
       "      <td>Apparel</td>\n",
       "      <td>fashion/apparel</td>\n",
       "      <td>Wasilla</td>\n",
       "      <td>US</td>\n",
       "      <td>AK</td>\n",
       "      <td>Dima01</td>\n",
       "      <td>dima01</td>\n",
       "    </tr>\n",
       "    <tr>\n",
       "      <th>1</th>\n",
       "      <td>568</td>\n",
       "      <td>for Tabletop Role Playing Games like Dungeons ...</td>\n",
       "      <td>18969.0</td>\n",
       "      <td>US</td>\n",
       "      <td>2019-06-02 21:06:55</td>\n",
       "      <td>USD</td>\n",
       "      <td>$</td>\n",
       "      <td>True</td>\n",
       "      <td>USD</td>\n",
       "      <td>2019-07-18 03:55:00</td>\n",
       "      <td>False</td>\n",
       "      <td>NaN</td>\n",
       "      <td>1.000000</td>\n",
       "      <td>5000.0</td>\n",
       "      <td>1175125319</td>\n",
       "      <td>NaN</td>\n",
       "      <td>False</td>\n",
       "      <td>NaN</td>\n",
       "      <td>NaN</td>\n",
       "      <td>2019-06-16 02:20:41</td>\n",
       "      <td>RPG Minimalist Creature Dice &amp; Status / Condit...</td>\n",
       "      <td>NaN</td>\n",
       "      <td>18969.0</td>\n",
       "      <td>rpg-minimalist-creature-dice-and-status-condit...</td>\n",
       "      <td>https://www.kickstarter.com/discover/categorie...</td>\n",
       "      <td>True</td>\n",
       "      <td>False</td>\n",
       "      <td>successful</td>\n",
       "      <td>2019-07-18 03:55:01</td>\n",
       "      <td>1.000000</td>\n",
       "      <td>NaN</td>\n",
       "      <td>NaN</td>\n",
       "      <td>{\"web\":{\"project\":\"https://www.kickstarter.com...</td>\n",
       "      <td>18969.0</td>\n",
       "      <td>domestic</td>\n",
       "      <td>Tabletop Games</td>\n",
       "      <td>games/tabletop games</td>\n",
       "      <td>Holland</td>\n",
       "      <td>US</td>\n",
       "      <td>MI</td>\n",
       "      <td>quEmpire Gaming</td>\n",
       "      <td>quempire</td>\n",
       "    </tr>\n",
       "    <tr>\n",
       "      <th>2</th>\n",
       "      <td>0</td>\n",
       "      <td>Giuliano Clothing is on a mission to reinvent ...</td>\n",
       "      <td>0.0</td>\n",
       "      <td>CA</td>\n",
       "      <td>2019-07-17 23:13:13</td>\n",
       "      <td>CAD</td>\n",
       "      <td>$</td>\n",
       "      <td>True</td>\n",
       "      <td>USD</td>\n",
       "      <td>2019-08-17 03:50:07</td>\n",
       "      <td>False</td>\n",
       "      <td>NaN</td>\n",
       "      <td>0.766388</td>\n",
       "      <td>5000.0</td>\n",
       "      <td>1290757180</td>\n",
       "      <td>NaN</td>\n",
       "      <td>True</td>\n",
       "      <td>NaN</td>\n",
       "      <td>NaN</td>\n",
       "      <td>2019-07-18 03:50:07</td>\n",
       "      <td>Giuliano Clothing: Modern Fashion</td>\n",
       "      <td>NaN</td>\n",
       "      <td>0.0</td>\n",
       "      <td>giuliano-clothing-modern-fashion</td>\n",
       "      <td>https://www.kickstarter.com/discover/categorie...</td>\n",
       "      <td>False</td>\n",
       "      <td>False</td>\n",
       "      <td>live</td>\n",
       "      <td>2019-07-18 03:50:07</td>\n",
       "      <td>0.766254</td>\n",
       "      <td>NaN</td>\n",
       "      <td>NaN</td>\n",
       "      <td>{\"web\":{\"project\":\"https://www.kickstarter.com...</td>\n",
       "      <td>0.0</td>\n",
       "      <td>domestic</td>\n",
       "      <td>Fashion</td>\n",
       "      <td>fashion</td>\n",
       "      <td>Toronto</td>\n",
       "      <td>CA</td>\n",
       "      <td>ON</td>\n",
       "      <td>Giuliano Clothing</td>\n",
       "      <td>giulianoclothing</td>\n",
       "    </tr>\n",
       "    <tr>\n",
       "      <th>3</th>\n",
       "      <td>80</td>\n",
       "      <td>We have a new album that we are ready to relea...</td>\n",
       "      <td>3691.0</td>\n",
       "      <td>US</td>\n",
       "      <td>2019-06-27 18:36:40</td>\n",
       "      <td>USD</td>\n",
       "      <td>$</td>\n",
       "      <td>True</td>\n",
       "      <td>USD</td>\n",
       "      <td>2019-07-18 03:30:00</td>\n",
       "      <td>False</td>\n",
       "      <td>NaN</td>\n",
       "      <td>1.000000</td>\n",
       "      <td>3500.0</td>\n",
       "      <td>920424993</td>\n",
       "      <td>NaN</td>\n",
       "      <td>False</td>\n",
       "      <td>NaN</td>\n",
       "      <td>NaN</td>\n",
       "      <td>2019-06-29 04:17:17</td>\n",
       "      <td>Drank The Gold's new album: Sipped The Silver</td>\n",
       "      <td>NaN</td>\n",
       "      <td>3691.0</td>\n",
       "      <td>drank-the-golds-new-album-sipped-the-silver</td>\n",
       "      <td>https://www.kickstarter.com/discover/categorie...</td>\n",
       "      <td>True</td>\n",
       "      <td>True</td>\n",
       "      <td>successful</td>\n",
       "      <td>2019-07-18 03:30:00</td>\n",
       "      <td>1.000000</td>\n",
       "      <td>NaN</td>\n",
       "      <td>NaN</td>\n",
       "      <td>{\"web\":{\"project\":\"https://www.kickstarter.com...</td>\n",
       "      <td>3691.0</td>\n",
       "      <td>domestic</td>\n",
       "      <td>Music</td>\n",
       "      <td>music</td>\n",
       "      <td>Saratoga Springs</td>\n",
       "      <td>US</td>\n",
       "      <td>NY</td>\n",
       "      <td>Drank The Gold</td>\n",
       "      <td>drankthegold</td>\n",
       "    </tr>\n",
       "    <tr>\n",
       "      <th>4</th>\n",
       "      <td>0</td>\n",
       "      <td>The film follows 4 frustrated campaigns as the...</td>\n",
       "      <td>0.0</td>\n",
       "      <td>US</td>\n",
       "      <td>2019-07-17 19:45:17</td>\n",
       "      <td>USD</td>\n",
       "      <td>$</td>\n",
       "      <td>True</td>\n",
       "      <td>USD</td>\n",
       "      <td>2019-08-17 03:23:01</td>\n",
       "      <td>False</td>\n",
       "      <td>NaN</td>\n",
       "      <td>1.000000</td>\n",
       "      <td>2000.0</td>\n",
       "      <td>255952264</td>\n",
       "      <td>NaN</td>\n",
       "      <td>True</td>\n",
       "      <td>NaN</td>\n",
       "      <td>NaN</td>\n",
       "      <td>2019-07-18 03:23:01</td>\n",
       "      <td>A Period Piece DVD Funding</td>\n",
       "      <td>NaN</td>\n",
       "      <td>0.0</td>\n",
       "      <td>a-period-piece-dvd-funding</td>\n",
       "      <td>https://www.kickstarter.com/discover/categorie...</td>\n",
       "      <td>False</td>\n",
       "      <td>False</td>\n",
       "      <td>live</td>\n",
       "      <td>2019-07-18 03:23:02</td>\n",
       "      <td>1.000000</td>\n",
       "      <td>NaN</td>\n",
       "      <td>NaN</td>\n",
       "      <td>{\"web\":{\"project\":\"https://www.kickstarter.com...</td>\n",
       "      <td>0.0</td>\n",
       "      <td>domestic</td>\n",
       "      <td>Drama</td>\n",
       "      <td>film &amp; video/drama</td>\n",
       "      <td>Nashville</td>\n",
       "      <td>US</td>\n",
       "      <td>TN</td>\n",
       "      <td>Anthony Stephen Hamilton</td>\n",
       "      <td>aperiodpiece</td>\n",
       "    </tr>\n",
       "  </tbody>\n",
       "</table>\n",
       "</div>"
      ],
      "text/plain": [
       "   backers_count                                              blurb  \\\n",
       "0              0  I'm just going to say it, I'm not special. I'm...   \n",
       "1            568  for Tabletop Role Playing Games like Dungeons ...   \n",
       "2              0  Giuliano Clothing is on a mission to reinvent ...   \n",
       "3             80  We have a new album that we are ready to relea...   \n",
       "4              0  The film follows 4 frustrated campaigns as the...   \n",
       "\n",
       "   converted_pledged_amount country          created_at currency  \\\n",
       "0                       0.0      US 2019-07-15 02:59:36      USD   \n",
       "1                   18969.0      US 2019-06-02 21:06:55      USD   \n",
       "2                       0.0      CA 2019-07-17 23:13:13      CAD   \n",
       "3                    3691.0      US 2019-06-27 18:36:40      USD   \n",
       "4                       0.0      US 2019-07-17 19:45:17      USD   \n",
       "\n",
       "  currency_symbol  currency_trailing_code current_currency  \\\n",
       "0               $                    True              USD   \n",
       "1               $                    True              USD   \n",
       "2               $                    True              USD   \n",
       "3               $                    True              USD   \n",
       "4               $                    True              USD   \n",
       "\n",
       "             deadline  disable_communication friends   fx_rate    goal  \\\n",
       "0 2019-08-17 05:04:48                  False     NaN  1.000000  5000.0   \n",
       "1 2019-07-18 03:55:00                  False     NaN  1.000000  5000.0   \n",
       "2 2019-08-17 03:50:07                  False     NaN  0.766388  5000.0   \n",
       "3 2019-07-18 03:30:00                  False     NaN  1.000000  3500.0   \n",
       "4 2019-08-17 03:23:01                  False     NaN  1.000000  2000.0   \n",
       "\n",
       "           id is_backing is_starrable is_starred  last_update_published_at  \\\n",
       "0  1893102245        NaN         True        NaN                       NaN   \n",
       "1  1175125319        NaN        False        NaN                       NaN   \n",
       "2  1290757180        NaN         True        NaN                       NaN   \n",
       "3   920424993        NaN        False        NaN                       NaN   \n",
       "4   255952264        NaN         True        NaN                       NaN   \n",
       "\n",
       "          launched_at                                               name  \\\n",
       "0 2019-07-18 05:04:48                                      Shirt and hat   \n",
       "1 2019-06-16 02:20:41  RPG Minimalist Creature Dice & Status / Condit...   \n",
       "2 2019-07-18 03:50:07                  Giuliano Clothing: Modern Fashion   \n",
       "3 2019-06-29 04:17:17      Drank The Gold's new album: Sipped The Silver   \n",
       "4 2019-07-18 03:23:01                         A Period Piece DVD Funding   \n",
       "\n",
       "  permissions  pledged                                               slug  \\\n",
       "0         NaN      0.0                                      shirt-and-hat   \n",
       "1         NaN  18969.0  rpg-minimalist-creature-dice-and-status-condit...   \n",
       "2         NaN      0.0                   giuliano-clothing-modern-fashion   \n",
       "3         NaN   3691.0        drank-the-golds-new-album-sipped-the-silver   \n",
       "4         NaN      0.0                         a-period-piece-dvd-funding   \n",
       "\n",
       "                                          source_url  spotlight  staff_pick  \\\n",
       "0  https://www.kickstarter.com/discover/categorie...      False       False   \n",
       "1  https://www.kickstarter.com/discover/categorie...       True       False   \n",
       "2  https://www.kickstarter.com/discover/categorie...      False       False   \n",
       "3  https://www.kickstarter.com/discover/categorie...       True        True   \n",
       "4  https://www.kickstarter.com/discover/categorie...      False       False   \n",
       "\n",
       "        state    state_changed_at  static_usd_rate  unread_messages_count  \\\n",
       "0        live 2019-07-18 05:04:48         1.000000                    NaN   \n",
       "1  successful 2019-07-18 03:55:01         1.000000                    NaN   \n",
       "2        live 2019-07-18 03:50:07         0.766254                    NaN   \n",
       "3  successful 2019-07-18 03:30:00         1.000000                    NaN   \n",
       "4        live 2019-07-18 03:23:02         1.000000                    NaN   \n",
       "\n",
       "   unseen_activity_count                                               urls  \\\n",
       "0                    NaN  {\"web\":{\"project\":\"https://www.kickstarter.com...   \n",
       "1                    NaN  {\"web\":{\"project\":\"https://www.kickstarter.com...   \n",
       "2                    NaN  {\"web\":{\"project\":\"https://www.kickstarter.com...   \n",
       "3                    NaN  {\"web\":{\"project\":\"https://www.kickstarter.com...   \n",
       "4                    NaN  {\"web\":{\"project\":\"https://www.kickstarter.com...   \n",
       "\n",
       "   usd_pledged  usd_type    sub_category      overall_category  \\\n",
       "0          0.0  domestic         Apparel       fashion/apparel   \n",
       "1      18969.0  domestic  Tabletop Games  games/tabletop games   \n",
       "2          0.0  domestic         Fashion               fashion   \n",
       "3       3691.0  domestic           Music                 music   \n",
       "4          0.0  domestic           Drama    film & video/drama   \n",
       "\n",
       "               city country_loc state_loc              creator_name  \\\n",
       "0           Wasilla          US        AK                    Dima01   \n",
       "1           Holland          US        MI           quEmpire Gaming   \n",
       "2           Toronto          CA        ON         Giuliano Clothing   \n",
       "3  Saratoga Springs          US        NY            Drank The Gold   \n",
       "4         Nashville          US        TN  Anthony Stephen Hamilton   \n",
       "\n",
       "       creator_slug  \n",
       "0            dima01  \n",
       "1          quempire  \n",
       "2  giulianoclothing  \n",
       "3      drankthegold  \n",
       "4      aperiodpiece  "
      ]
     },
     "execution_count": 5,
     "metadata": {},
     "output_type": "execute_result"
    }
   ],
   "source": [
    "kick_inter.head()"
   ]
  },
  {
   "cell_type": "code",
   "execution_count": 6,
   "metadata": {},
   "outputs": [
    {
     "name": "stdout",
     "output_type": "stream",
     "text": [
      "<class 'pandas.core.frame.DataFrame'>\n",
      "RangeIndex: 332899 entries, 0 to 332898\n",
      "Data columns (total 42 columns):\n",
      "backers_count               332899 non-null int64\n",
      "blurb                       332889 non-null object\n",
      "converted_pledged_amount    195183 non-null float64\n",
      "country                     332899 non-null object\n",
      "created_at                  332899 non-null datetime64[ns]\n",
      "currency                    332899 non-null object\n",
      "currency_symbol             332899 non-null object\n",
      "currency_trailing_code      332899 non-null bool\n",
      "current_currency            195183 non-null object\n",
      "deadline                    332899 non-null datetime64[ns]\n",
      "disable_communication       332899 non-null bool\n",
      "friends                     1629 non-null object\n",
      "fx_rate                     185035 non-null float64\n",
      "goal                        332899 non-null float64\n",
      "id                          332899 non-null int64\n",
      "is_backing                  1629 non-null object\n",
      "is_starrable                206127 non-null object\n",
      "is_starred                  1629 non-null object\n",
      "last_update_published_at    0 non-null float64\n",
      "launched_at                 332899 non-null datetime64[ns]\n",
      "name                        332898 non-null object\n",
      "permissions                 1498 non-null object\n",
      "pledged                     332899 non-null float64\n",
      "slug                        332899 non-null object\n",
      "source_url                  288499 non-null object\n",
      "spotlight                   332899 non-null bool\n",
      "staff_pick                  332899 non-null bool\n",
      "state                       332899 non-null object\n",
      "state_changed_at            332899 non-null datetime64[ns]\n",
      "static_usd_rate             332899 non-null float64\n",
      "unread_messages_count       0 non-null float64\n",
      "unseen_activity_count       0 non-null float64\n",
      "urls                        332899 non-null object\n",
      "usd_pledged                 332899 non-null float64\n",
      "usd_type                    193390 non-null object\n",
      "sub_category                332899 non-null object\n",
      "overall_category            332899 non-null object\n",
      "city                        331832 non-null object\n",
      "country_loc                 331832 non-null object\n",
      "state_loc                   331832 non-null object\n",
      "creator_name                332899 non-null object\n",
      "creator_slug                332899 non-null object\n",
      "dtypes: bool(4), datetime64[ns](4), float64(9), int64(2), object(23)\n",
      "memory usage: 97.8+ MB\n"
     ]
    }
   ],
   "source": [
    "kick_inter.info()"
   ]
  },
  {
   "cell_type": "markdown",
   "metadata": {},
   "source": [
    "Our current dataset has 42 columns. We first need to narrow the columns down that we would like to work with. Since we are trying to predict whether or not a Kickstarter campaign will be successful or fail, we need to ensure that we are not using any features that contain \"future information\" (i.e. number of backers or amount pledged), because these features could be proxies for our target variable. \n",
    "\n",
    "After taking a look through our data dictionary (located in the reference folder in the repository), we have identified X columns that we need to drop before building our model. \n",
    "\n",
    "**Columns to Drop:**\n",
    "1. backers_count: This is the number of people who backed the project. This column contains \"future information\" and could act as a proxy for our target variable. \n",
    "1. blurb: This is a short description of the project. We created a new column (blurb count) and will drop this feature.  \n",
    "1. currency_symbol: This feature is redundant with the currency feature. \n",
    "1. currency_trailing_code - This feature is redundant with the currency feature. \n",
    "1. converted pledge amount - This feature contains the amount of money that has been pledged to the campaign. This feature contains \"future information\" and could be used as a proxy for the target variable. \n",
    "1. current_currency - This column is redundant with the currency column \n",
    "1. friends - This column is 99% empty.\n",
    "1. ID - Unique identifier for the campaign. Will need to be dropped before learning the model. \n",
    "1. Name - Unique identifier for the campaign. Will need to be dropped before learning the model. \n",
    "1. is_backing - This column is ~ 99% empty \n",
    "1. is_starrable - This column contains \"future information\" regarding how successful Kickstarter believes the campaign will be.\n",
    "1. Permissions - this column is 99% empty \n",
    "1. slug - this column is redundant with name.\n",
    "1. source_url - This is not needed for model building. \n",
    "1. spotlight - This column contains \"future information\" regarding how successful Kickstarter believes the campaign will be.\n",
    "1. staff_pick - This column contains \"future information\" regarding how successful Kickstarter believes the campaign will be.\n",
    "1. unread_message_count - This column is empty. \n",
    "1. unseen_activity_count - This column is empty. \n",
    "1. URL - This is not needed for model building.\n",
    "1. usd_pleged - Redundant with the currency column.  \n",
    "1. country - Redundant with the currency column (does not actually reflect where the campaign is. \n",
    "1. creator_name - Unnecessary information. \n",
    "1. creator_slug - Unnecessary information.  \n",
    "1. disabled_communication - False for all campaigns that have ended. \n",
    "1. last_update_published_at - Column is empty. "
   ]
  },
  {
   "cell_type": "markdown",
   "metadata": {},
   "source": [
    "**Let's analyze our remaining 12 columns:**\n",
    "\n",
    "1. _**created at**_ - (datetime) \n",
    "1. _**currency**_ - (categorical) \n",
    "1. _**deadline**_ - (datetime)\n",
    "1. _**fx rate (exchange rate)**_ - (quantitative) \n",
    "1. _**goal**_ - (quantitative) \n",
    "1. _**launched at**_ - (datetime) \n",
    "1. _**sub category**_ - (categorical) \n",
    "1. _**overall category**_ - (categorical) \n",
    "1. _**city**_ - (categorical) \n",
    "1. _**country loc**_ - (categorical) \n",
    "1. _**state loc**_ - (categorical) "
   ]
  },
  {
   "cell_type": "markdown",
   "metadata": {},
   "source": [
    "### Deep-dive into Our Remaining Features"
   ]
  },
  {
   "cell_type": "markdown",
   "metadata": {
    "heading_collapsed": true
   },
   "source": [
    "#### Created At"
   ]
  },
  {
   "cell_type": "markdown",
   "metadata": {
    "hidden": true
   },
   "source": [
    "We can see that our campaigns are between April 2009 and July 2019. The number of campaigns have been increasing over time, with an average of around 2700 campaigns launched every month. "
   ]
  },
  {
   "cell_type": "code",
   "execution_count": 7,
   "metadata": {
    "hidden": true
   },
   "outputs": [
    {
     "name": "stdout",
     "output_type": "stream",
     "text": [
      "Earliest Kickstarter Campaign in the Dataset:  2009-04-21 17:35:35\n",
      "Latest Kickstarter Campaign in the Dataset:  2019-07-18 00:54:35\n"
     ]
    }
   ],
   "source": [
    "print('Earliest Kickstarter Campaign in the Dataset: ',kick_inter.created_at.min())\n",
    "print('Latest Kickstarter Campaign in the Dataset: ',kick_inter.created_at.max())"
   ]
  },
  {
   "cell_type": "code",
   "execution_count": 8,
   "metadata": {
    "hidden": true
   },
   "outputs": [
    {
     "name": "stdout",
     "output_type": "stream",
     "text": [
      "Average Number of Campaigns Launched Each Month:  2685.0\n"
     ]
    },
    {
     "data": {
      "image/png": "[encoded data removed]",
      "text/plain": [
       "<Figure size 1080x720 with 1 Axes>"
      ]
     },
     "metadata": {
      "needs_background": "light"
     },
     "output_type": "display_data"
    }
   ],
   "source": [
    "kick_inter['year_month'] = pd.to_datetime(kick_inter['created_at']).dt.to_period('M')\n",
    "created_date_count = kick_inter.year_month.value_counts().to_frame().reset_index().rename(columns={'index':'date', \n",
    "                                                                                                   'year_month': 'count'})\n",
    "created_date_count.sort_values(by='date', inplace=True)\n",
    "# average number of campaings launched each month\n",
    "print('Average Number of Campaigns Launched Each Month: ', np.round(created_date_count['count'].mean()))\n",
    "plt.figure(figsize=[15,10])\n",
    "ax = sns.barplot(created_date_count['date'], created_date_count['count'], color='grey')\n",
    "ax.set_xticklabels(ax.get_xticklabels(),rotation=30)\n",
    "plt.xlabel(\"Date Campaign was Created\")\n",
    "plt.ylabel(\"Number of Kickstarter Campaigns\")\n",
    "plt.title('HISTOGRAM OF KICKSTARTER CAMPAIGNS BY DATE')\n",
    "\n",
    "plt.show()"
   ]
  },
  {
   "cell_type": "markdown",
   "metadata": {
    "heading_collapsed": true
   },
   "source": [
    "#### Goal & FX Rate"
   ]
  },
  {
   "cell_type": "markdown",
   "metadata": {
    "hidden": true
   },
   "source": [
    "The goal feature is in 14 different currencies (with USD and GBP as the most frequent). In order to build a model, we are going to have to convert all goal amounts to the same scale (USD) so that our model can interpret the feature correctly. "
   ]
  },
  {
   "cell_type": "code",
   "execution_count": 9,
   "metadata": {
    "hidden": true
   },
   "outputs": [
    {
     "data": {
      "text/html": [
       "<div>\n",
       "<style scoped>\n",
       "    .dataframe tbody tr th:only-of-type {\n",
       "        vertical-align: middle;\n",
       "    }\n",
       "\n",
       "    .dataframe tbody tr th {\n",
       "        vertical-align: top;\n",
       "    }\n",
       "\n",
       "    .dataframe thead th {\n",
       "        text-align: right;\n",
       "    }\n",
       "</style>\n",
       "<table border=\"1\" class=\"dataframe\">\n",
       "  <thead>\n",
       "    <tr style=\"text-align: right;\">\n",
       "      <th></th>\n",
       "      <th>goal</th>\n",
       "      <th>fx_rate</th>\n",
       "      <th>currency</th>\n",
       "    </tr>\n",
       "  </thead>\n",
       "  <tbody>\n",
       "    <tr>\n",
       "      <th>0</th>\n",
       "      <td>5000.0</td>\n",
       "      <td>1.000000</td>\n",
       "      <td>USD</td>\n",
       "    </tr>\n",
       "    <tr>\n",
       "      <th>1</th>\n",
       "      <td>5000.0</td>\n",
       "      <td>1.000000</td>\n",
       "      <td>USD</td>\n",
       "    </tr>\n",
       "    <tr>\n",
       "      <th>2</th>\n",
       "      <td>5000.0</td>\n",
       "      <td>0.766388</td>\n",
       "      <td>CAD</td>\n",
       "    </tr>\n",
       "    <tr>\n",
       "      <th>3</th>\n",
       "      <td>3500.0</td>\n",
       "      <td>1.000000</td>\n",
       "      <td>USD</td>\n",
       "    </tr>\n",
       "    <tr>\n",
       "      <th>4</th>\n",
       "      <td>2000.0</td>\n",
       "      <td>1.000000</td>\n",
       "      <td>USD</td>\n",
       "    </tr>\n",
       "    <tr>\n",
       "      <th>5</th>\n",
       "      <td>35932.0</td>\n",
       "      <td>0.681983</td>\n",
       "      <td>CAD</td>\n",
       "    </tr>\n",
       "    <tr>\n",
       "      <th>6</th>\n",
       "      <td>500.0</td>\n",
       "      <td>1.000000</td>\n",
       "      <td>USD</td>\n",
       "    </tr>\n",
       "    <tr>\n",
       "      <th>7</th>\n",
       "      <td>6800.0</td>\n",
       "      <td>1.000000</td>\n",
       "      <td>USD</td>\n",
       "    </tr>\n",
       "    <tr>\n",
       "      <th>8</th>\n",
       "      <td>600.0</td>\n",
       "      <td>1.000000</td>\n",
       "      <td>USD</td>\n",
       "    </tr>\n",
       "    <tr>\n",
       "      <th>9</th>\n",
       "      <td>4000.0</td>\n",
       "      <td>1.000000</td>\n",
       "      <td>USD</td>\n",
       "    </tr>\n",
       "  </tbody>\n",
       "</table>\n",
       "</div>"
      ],
      "text/plain": [
       "      goal   fx_rate currency\n",
       "0   5000.0  1.000000      USD\n",
       "1   5000.0  1.000000      USD\n",
       "2   5000.0  0.766388      CAD\n",
       "3   3500.0  1.000000      USD\n",
       "4   2000.0  1.000000      USD\n",
       "5  35932.0  0.681983      CAD\n",
       "6    500.0  1.000000      USD\n",
       "7   6800.0  1.000000      USD\n",
       "8    600.0  1.000000      USD\n",
       "9   4000.0  1.000000      USD"
      ]
     },
     "execution_count": 9,
     "metadata": {},
     "output_type": "execute_result"
    }
   ],
   "source": [
    "kick_inter[['goal', 'fx_rate', 'currency']].head(10)"
   ]
  },
  {
   "cell_type": "code",
   "execution_count": 10,
   "metadata": {
    "hidden": true
   },
   "outputs": [
    {
     "data": {
      "text/plain": [
       "USD    244692\n",
       "GBP     32424\n",
       "EUR     21221\n",
       "CAD     14335\n",
       "AUD      7556\n",
       "MXN      3201\n",
       "SEK      2030\n",
       "HKD      1513\n",
       "NZD      1414\n",
       "DKK      1252\n",
       "SGD      1087\n",
       "CHF       987\n",
       "NOK       752\n",
       "JPY       435\n",
       "Name: currency, dtype: int64"
      ]
     },
     "execution_count": 10,
     "metadata": {},
     "output_type": "execute_result"
    }
   ],
   "source": [
    "kick_deduped.currency.value_counts()"
   ]
  },
  {
   "cell_type": "markdown",
   "metadata": {
    "heading_collapsed": true
   },
   "source": [
    "#### Sub category & Overall category  "
   ]
  },
  {
   "cell_type": "markdown",
   "metadata": {
    "hidden": true
   },
   "source": [
    "Kickstarter campaigns fall into 1 of over 170 different overall categories and any number of 159 different sub-categories. The information both columns is repetitive. Since the sub-category has more specific information, I'd like to retain this category for further analysis. "
   ]
  },
  {
   "cell_type": "code",
   "execution_count": 11,
   "metadata": {
    "hidden": true
   },
   "outputs": [
    {
     "data": {
      "text/html": [
       "<div>\n",
       "<style scoped>\n",
       "    .dataframe tbody tr th:only-of-type {\n",
       "        vertical-align: middle;\n",
       "    }\n",
       "\n",
       "    .dataframe tbody tr th {\n",
       "        vertical-align: top;\n",
       "    }\n",
       "\n",
       "    .dataframe thead th {\n",
       "        text-align: right;\n",
       "    }\n",
       "</style>\n",
       "<table border=\"1\" class=\"dataframe\">\n",
       "  <thead>\n",
       "    <tr style=\"text-align: right;\">\n",
       "      <th></th>\n",
       "      <th>sub_category</th>\n",
       "      <th>overall_category</th>\n",
       "    </tr>\n",
       "  </thead>\n",
       "  <tbody>\n",
       "    <tr>\n",
       "      <th>0</th>\n",
       "      <td>Apparel</td>\n",
       "      <td>fashion/apparel</td>\n",
       "    </tr>\n",
       "    <tr>\n",
       "      <th>1</th>\n",
       "      <td>Tabletop Games</td>\n",
       "      <td>games/tabletop games</td>\n",
       "    </tr>\n",
       "    <tr>\n",
       "      <th>2</th>\n",
       "      <td>Fashion</td>\n",
       "      <td>fashion</td>\n",
       "    </tr>\n",
       "    <tr>\n",
       "      <th>3</th>\n",
       "      <td>Music</td>\n",
       "      <td>music</td>\n",
       "    </tr>\n",
       "    <tr>\n",
       "      <th>4</th>\n",
       "      <td>Drama</td>\n",
       "      <td>film &amp; video/drama</td>\n",
       "    </tr>\n",
       "  </tbody>\n",
       "</table>\n",
       "</div>"
      ],
      "text/plain": [
       "     sub_category      overall_category\n",
       "0         Apparel       fashion/apparel\n",
       "1  Tabletop Games  games/tabletop games\n",
       "2         Fashion               fashion\n",
       "3           Music                 music\n",
       "4           Drama    film & video/drama"
      ]
     },
     "execution_count": 11,
     "metadata": {},
     "output_type": "execute_result"
    }
   ],
   "source": [
    "kick_inter[['sub_category', 'overall_category']].head()"
   ]
  },
  {
   "cell_type": "code",
   "execution_count": 12,
   "metadata": {
    "hidden": true,
    "scrolled": true
   },
   "outputs": [
    {
     "name": "stdout",
     "output_type": "stream",
     "text": [
      "Number of Categories in the \"overall_category\" column:  170\n"
     ]
    }
   ],
   "source": [
    "print('Number of Categories in the \"overall_category\" column: ',kick_inter['overall_category'].nunique())"
   ]
  },
  {
   "cell_type": "code",
   "execution_count": 13,
   "metadata": {
    "hidden": true
   },
   "outputs": [
    {
     "name": "stdout",
     "output_type": "stream",
     "text": [
      "Top 10 categories in Overall Category Column: \n",
      " \n",
      " design/product design    18839\n",
      "games/tabletop games     15431\n",
      "games/video games        10717\n",
      "publishing/fiction        8906\n",
      "fashion/apparel           8881\n",
      "Name: overall_category, dtype: int64\n"
     ]
    }
   ],
   "source": [
    "print('Top 10 categories in Overall Category Column: \\n \\n',kick_inter['overall_category'].value_counts().head(5))"
   ]
  },
  {
   "cell_type": "code",
   "execution_count": 14,
   "metadata": {
    "hidden": true,
    "scrolled": true
   },
   "outputs": [
    {
     "name": "stdout",
     "output_type": "stream",
     "text": [
      "Number of Categories in the \"sub_category\" column:  159\n"
     ]
    }
   ],
   "source": [
    "print('Number of Categories in the \"sub_category\" column: ',kick_inter['sub_category'].nunique())"
   ]
  },
  {
   "cell_type": "code",
   "execution_count": 15,
   "metadata": {
    "hidden": true
   },
   "outputs": [
    {
     "name": "stdout",
     "output_type": "stream",
     "text": [
      "Top 10 categories in Sub-Category Column: \n",
      " \n",
      " Product Design    18839\n",
      "Tabletop Games    15431\n",
      "Video Games       10717\n",
      "Fiction            8906\n",
      "Apparel            8881\n",
      "Name: sub_category, dtype: int64\n"
     ]
    }
   ],
   "source": [
    "print('Top 10 categories in Sub-Category Column: \\n \\n',kick_inter['sub_category'].value_counts().head(5))"
   ]
  },
  {
   "cell_type": "markdown",
   "metadata": {
    "hidden": true
   },
   "source": [
    "Of the top 5 Sub-catagories for product design, 100% of all product design campaigns have been successfull, while around 37% of tabletop games have been successful. "
   ]
  },
  {
   "cell_type": "code",
   "execution_count": 16,
   "metadata": {
    "hidden": true
   },
   "outputs": [
    {
     "name": "stdout",
     "output_type": "stream",
     "text": [
      "Total number of campaigns classified as product design:  10629\n",
      "Ratio of successful Product Design Campaigns:  1.0\n",
      "\n",
      "\n",
      "Total Number of campaigns classified as Tabletop Games:  7855\n",
      "Ratio of Successful Tabletop Game Campaigns:  0.3689369828134946\n"
     ]
    }
   ],
   "source": [
    "mask_successful_proddesign = (kick_inter['state']=='successful') & (kick_inter['sub_category']=='Product Design')\n",
    "mask_all_productdesign = ((kick_inter['sub_category']=='Product Design') & ((kick_inter['state']=='successful') | (kick_inter['state']=='failed')))\n",
    "print('Total number of campaigns classified as product design: ',len(kick_inter.loc[mask_all_productdesign]))\n",
    "print('Ratio of successful Product Design Campaigns: ',len(kick_inter.loc[mask_successful_proddesign])/len(kick_inter.loc[mask_all_productdesign]))\n",
    "print('\\n')\n",
    "\n",
    "mask_successful_tabletopgames = (kick_inter['state']=='successful') & (kick_inter['sub_category']=='Video Games')\n",
    "mask_all_tabletopgames = ((kick_inter['sub_category']=='Video Games') & ((kick_inter['state']=='successful') | (kick_inter['state']=='failed')))\n",
    "\n",
    "print('Total Number of campaigns classified as Tabletop Games: ', len(kick_inter.loc[mask_all_tabletopgames]))\n",
    "print('Ratio of Successful Tabletop Game Campaigns: ',len(kick_inter.loc[mask_successful_tabletopgames])/len(kick_inter.loc[mask_all_tabletopgames]))"
   ]
  },
  {
   "cell_type": "markdown",
   "metadata": {
    "heading_collapsed": true
   },
   "source": [
    "#### Location (city/ state/ country)  "
   ]
  },
  {
   "cell_type": "markdown",
   "metadata": {
    "hidden": true
   },
   "source": [
    "A location feature could be useful in predicting success of kickstarter campaigns. There are 211 countries represented in the dataset and over 12K cities. This column will need to be turned into a dummy variable for the models so city is too large. We will go with the country column for now and consider grouping this column into region). "
   ]
  },
  {
   "cell_type": "code",
   "execution_count": 17,
   "metadata": {
    "hidden": true
   },
   "outputs": [
    {
     "data": {
      "text/html": [
       "<div>\n",
       "<style scoped>\n",
       "    .dataframe tbody tr th:only-of-type {\n",
       "        vertical-align: middle;\n",
       "    }\n",
       "\n",
       "    .dataframe tbody tr th {\n",
       "        vertical-align: top;\n",
       "    }\n",
       "\n",
       "    .dataframe thead th {\n",
       "        text-align: right;\n",
       "    }\n",
       "</style>\n",
       "<table border=\"1\" class=\"dataframe\">\n",
       "  <thead>\n",
       "    <tr style=\"text-align: right;\">\n",
       "      <th></th>\n",
       "      <th>city</th>\n",
       "      <th>country_loc</th>\n",
       "      <th>state_loc</th>\n",
       "    </tr>\n",
       "  </thead>\n",
       "  <tbody>\n",
       "    <tr>\n",
       "      <th>0</th>\n",
       "      <td>Wasilla</td>\n",
       "      <td>US</td>\n",
       "      <td>AK</td>\n",
       "    </tr>\n",
       "    <tr>\n",
       "      <th>1</th>\n",
       "      <td>Holland</td>\n",
       "      <td>US</td>\n",
       "      <td>MI</td>\n",
       "    </tr>\n",
       "    <tr>\n",
       "      <th>2</th>\n",
       "      <td>Toronto</td>\n",
       "      <td>CA</td>\n",
       "      <td>ON</td>\n",
       "    </tr>\n",
       "    <tr>\n",
       "      <th>3</th>\n",
       "      <td>Saratoga Springs</td>\n",
       "      <td>US</td>\n",
       "      <td>NY</td>\n",
       "    </tr>\n",
       "    <tr>\n",
       "      <th>4</th>\n",
       "      <td>Nashville</td>\n",
       "      <td>US</td>\n",
       "      <td>TN</td>\n",
       "    </tr>\n",
       "  </tbody>\n",
       "</table>\n",
       "</div>"
      ],
      "text/plain": [
       "               city country_loc state_loc\n",
       "0           Wasilla          US        AK\n",
       "1           Holland          US        MI\n",
       "2           Toronto          CA        ON\n",
       "3  Saratoga Springs          US        NY\n",
       "4         Nashville          US        TN"
      ]
     },
     "execution_count": 17,
     "metadata": {},
     "output_type": "execute_result"
    }
   ],
   "source": [
    "kick_inter[['city', 'country_loc', 'state_loc']].head()"
   ]
  },
  {
   "cell_type": "code",
   "execution_count": 18,
   "metadata": {
    "hidden": true
   },
   "outputs": [
    {
     "name": "stdout",
     "output_type": "stream",
     "text": [
      "Number of Countries that have produced a Kickstarter campaing:  211\n",
      "Number of Cities that have produced a Kickstarter Campaign:  12685\n",
      "Number of states that have produced a Kickstarter Campaign:  5\n"
     ]
    }
   ],
   "source": [
    "print('Number of Countries that have produced a Kickstarter campaing: ', kick_inter.country_loc.nunique())\n",
    "print('Number of Cities that have produced a Kickstarter Campaign: ', kick_inter.city.nunique())\n",
    "print('Number of states that have produced a Kickstarter Campaign: ', kick_inter.state.nunique())"
   ]
  },
  {
   "cell_type": "markdown",
   "metadata": {},
   "source": [
    "## FEATURE CONSTRUCTION"
   ]
  },
  {
   "cell_type": "markdown",
   "metadata": {},
   "source": [
    "After taking a look at the columns in our dataset, we have narrowed down the final list of features to train our models on. \n",
    "\n",
    "**Final Features**\n",
    "1. Blurb word count\n",
    "1. Campaign length \n",
    "1. Currency\n",
    "1. Goal (converted to USD) \n",
    "1. Delta between created_at and launched_at column\n",
    "1. Sub category \n",
    "1. Country\n",
    "1. group cluster (KNN) \n",
    "1. **state** [Target Variable]"
   ]
  },
  {
   "cell_type": "markdown",
   "metadata": {},
   "source": [
    "#### Create imputed columns\n",
    "\n",
    "The kickstarter intermediate dataset is processed through calling the kickstarter_feature_engineering function (found in the \"src/d03_processing folder\". "
   ]
  },
  {
   "cell_type": "code",
   "execution_count": 19,
   "metadata": {},
   "outputs": [],
   "source": [
    "kick_proc = kickstarter_feature_engineering(kick_inter)"
   ]
  },
  {
   "cell_type": "markdown",
   "metadata": {},
   "source": [
    "#### Generating features using K-Means Clustering"
   ]
  },
  {
   "cell_type": "code",
   "execution_count": null,
   "metadata": {},
   "outputs": [],
   "source": []
  },
  {
   "cell_type": "markdown",
   "metadata": {},
   "source": [
    "#### Read in Cluster feature Dataset"
   ]
  },
  {
   "cell_type": "code",
   "execution_count": 20,
   "metadata": {},
   "outputs": [],
   "source": [
    "cluster_features =  pd.read_csv('../../data/03_processed/KNN_cluster_features_.csv')\n",
    "kick_proc = kick_proc.merge(cluster_features, \n",
    "                           how='left', \n",
    "                           on='id')"
   ]
  },
  {
   "cell_type": "code",
   "execution_count": 21,
   "metadata": {},
   "outputs": [
    {
     "data": {
      "text/html": [
       "<div>\n",
       "<style scoped>\n",
       "    .dataframe tbody tr th:only-of-type {\n",
       "        vertical-align: middle;\n",
       "    }\n",
       "\n",
       "    .dataframe tbody tr th {\n",
       "        vertical-align: top;\n",
       "    }\n",
       "\n",
       "    .dataframe thead th {\n",
       "        text-align: right;\n",
       "    }\n",
       "</style>\n",
       "<table border=\"1\" class=\"dataframe\">\n",
       "  <thead>\n",
       "    <tr style=\"text-align: right;\">\n",
       "      <th></th>\n",
       "      <th>currency</th>\n",
       "      <th>goal_original</th>\n",
       "      <th>id</th>\n",
       "      <th>category</th>\n",
       "      <th>country</th>\n",
       "      <th>year_month</th>\n",
       "      <th>blurb_word_count</th>\n",
       "      <th>campaign_length</th>\n",
       "      <th>delta_created_launched</th>\n",
       "      <th>goal_usd</th>\n",
       "      <th>successful_dummy</th>\n",
       "      <th>world_regions</th>\n",
       "      <th>cluster_predictions</th>\n",
       "    </tr>\n",
       "  </thead>\n",
       "  <tbody>\n",
       "    <tr>\n",
       "      <th>0</th>\n",
       "      <td>USD</td>\n",
       "      <td>5000.0</td>\n",
       "      <td>1175125319</td>\n",
       "      <td>Tabletop Games</td>\n",
       "      <td>US</td>\n",
       "      <td>2019-06</td>\n",
       "      <td>9.0</td>\n",
       "      <td>32</td>\n",
       "      <td>13</td>\n",
       "      <td>5000.0</td>\n",
       "      <td>1</td>\n",
       "      <td>Northern America</td>\n",
       "      <td>3.0</td>\n",
       "    </tr>\n",
       "    <tr>\n",
       "      <th>1</th>\n",
       "      <td>USD</td>\n",
       "      <td>3500.0</td>\n",
       "      <td>920424993</td>\n",
       "      <td>Music</td>\n",
       "      <td>US</td>\n",
       "      <td>2019-06</td>\n",
       "      <td>14.0</td>\n",
       "      <td>18</td>\n",
       "      <td>1</td>\n",
       "      <td>3500.0</td>\n",
       "      <td>1</td>\n",
       "      <td>Northern America</td>\n",
       "      <td>0.0</td>\n",
       "    </tr>\n",
       "    <tr>\n",
       "      <th>2</th>\n",
       "      <td>USD</td>\n",
       "      <td>500.0</td>\n",
       "      <td>1253520992</td>\n",
       "      <td>Zines</td>\n",
       "      <td>US</td>\n",
       "      <td>2019-07</td>\n",
       "      <td>17.0</td>\n",
       "      <td>15</td>\n",
       "      <td>1</td>\n",
       "      <td>500.0</td>\n",
       "      <td>1</td>\n",
       "      <td>Northern America</td>\n",
       "      <td>3.0</td>\n",
       "    </tr>\n",
       "    <tr>\n",
       "      <th>3</th>\n",
       "      <td>USD</td>\n",
       "      <td>6800.0</td>\n",
       "      <td>335137457</td>\n",
       "      <td>Graphic Novels</td>\n",
       "      <td>US</td>\n",
       "      <td>2019-06</td>\n",
       "      <td>12.0</td>\n",
       "      <td>30</td>\n",
       "      <td>6</td>\n",
       "      <td>6800.0</td>\n",
       "      <td>1</td>\n",
       "      <td>Northern America</td>\n",
       "      <td>2.0</td>\n",
       "    </tr>\n",
       "    <tr>\n",
       "      <th>4</th>\n",
       "      <td>USD</td>\n",
       "      <td>600.0</td>\n",
       "      <td>58084093</td>\n",
       "      <td>Mixed Media</td>\n",
       "      <td>US</td>\n",
       "      <td>2019-06</td>\n",
       "      <td>19.0</td>\n",
       "      <td>30</td>\n",
       "      <td>0</td>\n",
       "      <td>600.0</td>\n",
       "      <td>1</td>\n",
       "      <td>Northern America</td>\n",
       "      <td>2.0</td>\n",
       "    </tr>\n",
       "  </tbody>\n",
       "</table>\n",
       "</div>"
      ],
      "text/plain": [
       "  currency  goal_original          id        category country year_month  \\\n",
       "0      USD         5000.0  1175125319  Tabletop Games      US    2019-06   \n",
       "1      USD         3500.0   920424993           Music      US    2019-06   \n",
       "2      USD          500.0  1253520992           Zines      US    2019-07   \n",
       "3      USD         6800.0   335137457  Graphic Novels      US    2019-06   \n",
       "4      USD          600.0    58084093     Mixed Media      US    2019-06   \n",
       "\n",
       "   blurb_word_count  campaign_length  delta_created_launched  goal_usd  \\\n",
       "0               9.0               32                      13    5000.0   \n",
       "1              14.0               18                       1    3500.0   \n",
       "2              17.0               15                       1     500.0   \n",
       "3              12.0               30                       6    6800.0   \n",
       "4              19.0               30                       0     600.0   \n",
       "\n",
       "   successful_dummy     world_regions  cluster_predictions  \n",
       "0                 1  Northern America                  3.0  \n",
       "1                 1  Northern America                  0.0  \n",
       "2                 1  Northern America                  3.0  \n",
       "3                 1  Northern America                  2.0  \n",
       "4                 1  Northern America                  2.0  "
      ]
     },
     "execution_count": 21,
     "metadata": {},
     "output_type": "execute_result"
    }
   ],
   "source": [
    "kick_proc.head()"
   ]
  },
  {
   "cell_type": "markdown",
   "metadata": {},
   "source": [
    "## MODEL EXPLORATION & TUNING"
   ]
  },
  {
   "cell_type": "code",
   "execution_count": 22,
   "metadata": {},
   "outputs": [],
   "source": [
    "from sklearn.model_selection import train_test_split, RandomizedSearchCV, GridSearchCV\n",
    "from sklearn.tree import DecisionTreeClassifier\n",
    "from sklearn.ensemble import RandomForestClassifier, AdaBoostClassifier\n",
    "from sklearn.naive_bayes import BernoulliNB, GaussianNB\n",
    "from sklearn.metrics import accuracy_score, confusion_matrix, precision_score\n",
    "from sklearn.pipeline import Pipeline\n",
    "from sklearn.linear_model import LogisticRegression\n",
    "from sklearn.preprocessing import StandardScaler"
   ]
  },
  {
   "cell_type": "markdown",
   "metadata": {},
   "source": [
    "It's now time to build our first model. Because we are making decisions about what campaigns to spotlight and contact for additional help, which will cost Kickstarter money and time, we want to go with a model that has the lowest number of false positives(i.e., the model with the lowest number of campaigns that are falsely identified as successful). Because of this, we will be maximizing our model for precision. "
   ]
  },
  {
   "cell_type": "markdown",
   "metadata": {},
   "source": [
    "### Baseline Model - Decision Tree"
   ]
  },
  {
   "cell_type": "markdown",
   "metadata": {},
   "source": [
    "#### Set-up train & testing data"
   ]
  },
  {
   "cell_type": "markdown",
   "metadata": {},
   "source": [
    "Let's drop any remaining null values. "
   ]
  },
  {
   "cell_type": "code",
   "execution_count": 23,
   "metadata": {},
   "outputs": [
    {
     "name": "stdout",
     "output_type": "stream",
     "text": [
      "Number of Rows before dropping NAs:  275651\n"
     ]
    }
   ],
   "source": [
    "print('Number of Rows before dropping NAs: ',len(kick_proc))\n",
    "kick_proc.dropna(inplace=True)"
   ]
  },
  {
   "cell_type": "code",
   "execution_count": 24,
   "metadata": {},
   "outputs": [
    {
     "name": "stdout",
     "output_type": "stream",
     "text": [
      "Number of Rows after dropping NAs:  275642\n"
     ]
    }
   ],
   "source": [
    "print('Number of Rows after dropping NAs: ',len(kick_proc))"
   ]
  },
  {
   "cell_type": "code",
   "execution_count": 25,
   "metadata": {},
   "outputs": [],
   "source": [
    "y = kick_proc['successful_dummy']\n",
    "df_no_y = kick_proc.drop('successful_dummy', axis=1)\n",
    "X_feats = ['category', 'blurb_word_count', 'campaign_length',\n",
    "           'delta_created_launched', 'goal_usd','world_regions', \n",
    "           'cluster_predictions']\n",
    "X = pd.get_dummies(df_no_y[X_feats])"
   ]
  },
  {
   "cell_type": "markdown",
   "metadata": {},
   "source": [
    "We now have over 187 predictor variables (after making category and world region dummy variables). "
   ]
  },
  {
   "cell_type": "code",
   "execution_count": 26,
   "metadata": {},
   "outputs": [
    {
     "name": "stdout",
     "output_type": "stream",
     "text": [
      "Numer of rows and Predictors:  (275642, 187)\n"
     ]
    }
   ],
   "source": [
    "print('Numer of rows and Predictors: ',X.shape)"
   ]
  },
  {
   "cell_type": "markdown",
   "metadata": {},
   "source": [
    "Out outcome variable is also relatively balanced. We will not use any re-balancing techniques for now. "
   ]
  },
  {
   "cell_type": "code",
   "execution_count": 27,
   "metadata": {},
   "outputs": [
    {
     "data": {
      "text/plain": [
       "1    146584\n",
       "0    129058\n",
       "Name: successful_dummy, dtype: int64"
      ]
     },
     "execution_count": 27,
     "metadata": {},
     "output_type": "execute_result"
    }
   ],
   "source": [
    "y.value_counts()"
   ]
  },
  {
   "cell_type": "markdown",
   "metadata": {},
   "source": [
    "Let's split our data into training and testing sets and stratify on y to ensure that our test and train set outcomes are balanced. "
   ]
  },
  {
   "cell_type": "code",
   "execution_count": 28,
   "metadata": {},
   "outputs": [
    {
     "name": "stdout",
     "output_type": "stream",
     "text": [
      "Train Set: \n",
      " 1    0.531793\n",
      "0    0.468207\n",
      "Name: successful_dummy, dtype: float64\n",
      "\n",
      "\n",
      "Test Set: \n",
      " 1    0.531787\n",
      "0    0.468213\n",
      "Name: successful_dummy, dtype: float64\n"
     ]
    }
   ],
   "source": [
    "X_train, X_test, y_train, y_test = train_test_split(X, y, stratify=y)\n",
    "\n",
    "print('Train Set: \\n', y_train.value_counts()/len(y_train))\n",
    "print('\\n')\n",
    "print('Test Set: \\n', y_test.value_counts()/len(y_test))"
   ]
  },
  {
   "cell_type": "markdown",
   "metadata": {},
   "source": [
    "#### Instantiate and learn our decision tree model"
   ]
  },
  {
   "cell_type": "markdown",
   "metadata": {},
   "source": [
    "Our out of the box decision tree model has a precision score of around 72%. Let's try and build a model that does better than this. "
   ]
  },
  {
   "cell_type": "code",
   "execution_count": 29,
   "metadata": {},
   "outputs": [
    {
     "data": {
      "text/plain": [
       "DecisionTreeClassifier(class_weight=None, criterion='gini', max_depth=None,\n",
       "                       max_features=None, max_leaf_nodes=None,\n",
       "                       min_impurity_decrease=0.0, min_impurity_split=None,\n",
       "                       min_samples_leaf=1, min_samples_split=2,\n",
       "                       min_weight_fraction_leaf=0.0, presort=False,\n",
       "                       random_state=88, splitter='best')"
      ]
     },
     "execution_count": 29,
     "metadata": {},
     "output_type": "execute_result"
    }
   ],
   "source": [
    "dtc = DecisionTreeClassifier(random_state=88)\n",
    "dtc.fit(X_train, y_train)"
   ]
  },
  {
   "cell_type": "code",
   "execution_count": 30,
   "metadata": {},
   "outputs": [
    {
     "name": "stdout",
     "output_type": "stream",
     "text": [
      "Accuracy score of basic decision tree model: 70.1063690847615%\n",
      "Precision score of basic decision Tree Model: 72.09462436660057%\n"
     ]
    }
   ],
   "source": [
    "y_pred_dt = dtc.predict(X_test)\n",
    "print('Accuracy score of basic decision tree model: {}%'.format(accuracy_score(y_test, y_pred_dt)*100))\n",
    "print('Precision score of basic decision Tree Model: {}%'.format(precision_score(y_test, y_pred_dt)*100))"
   ]
  },
  {
   "cell_type": "code",
   "execution_count": 31,
   "metadata": {
    "scrolled": true
   },
   "outputs": [
    {
     "data": {
      "text/html": [
       "<div>\n",
       "<style scoped>\n",
       "    .dataframe tbody tr th:only-of-type {\n",
       "        vertical-align: middle;\n",
       "    }\n",
       "\n",
       "    .dataframe tbody tr th {\n",
       "        vertical-align: top;\n",
       "    }\n",
       "\n",
       "    .dataframe thead th {\n",
       "        text-align: right;\n",
       "    }\n",
       "</style>\n",
       "<table border=\"1\" class=\"dataframe\">\n",
       "  <thead>\n",
       "    <tr style=\"text-align: right;\">\n",
       "      <th></th>\n",
       "      <th>predicted 0</th>\n",
       "      <th>predicted 1</th>\n",
       "    </tr>\n",
       "  </thead>\n",
       "  <tbody>\n",
       "    <tr>\n",
       "      <th>actual 0</th>\n",
       "      <td>22132</td>\n",
       "      <td>10133</td>\n",
       "    </tr>\n",
       "    <tr>\n",
       "      <th>actual 1</th>\n",
       "      <td>10467</td>\n",
       "      <td>26179</td>\n",
       "    </tr>\n",
       "  </tbody>\n",
       "</table>\n",
       "</div>"
      ],
      "text/plain": [
       "          predicted 0  predicted 1\n",
       "actual 0        22132        10133\n",
       "actual 1        10467        26179"
      ]
     },
     "execution_count": 31,
     "metadata": {},
     "output_type": "execute_result"
    }
   ],
   "source": [
    "conf_matrix = pd.DataFrame(confusion_matrix(y_test, y_pred_dt), \n",
    "                           index = ['actual 0', 'actual 1'], \n",
    "                           columns = ['predicted 0', 'predicted 1'])\n",
    "conf_matrix"
   ]
  },
  {
   "cell_type": "markdown",
   "metadata": {},
   "source": [
    "### Bagging Model - Random Forest"
   ]
  },
  {
   "cell_type": "markdown",
   "metadata": {},
   "source": [
    "```python\n",
    "steps = [('rfc', RandomForestClassifier())]\n",
    "\n",
    "pipeline = Pipeline(steps)\n",
    "\n",
    "parameters = {'rfc__n_estimators':list(range(1, 200, 5)), \n",
    "             'rfc__criterion': ['gini', 'entropy'], \n",
    "             'rfc__max_depth': list(range(1, 10, 1)), \n",
    "             'rfc__min_samples_split': list(range(2, 10, 1)), \n",
    "             'rfc__min_samples_leaf': list(range(1, 5, 1))}\n",
    "\n",
    "randomCV = RandomizedSearchCV(pipeline, parameters, cv=10)\n",
    "\n",
    "randomCV.fit(X_train, y_train)\n",
    "\n",
    "# best parameters that were chosen \n",
    "randomCV.best_params_\n",
    "```"
   ]
  },
  {
   "cell_type": "markdown",
   "metadata": {},
   "source": [
    "#### Train our Best Random Forest Model"
   ]
  },
  {
   "cell_type": "code",
   "execution_count": 32,
   "metadata": {},
   "outputs": [
    {
     "data": {
      "text/plain": [
       "RandomForestClassifier(bootstrap=True, class_weight=None, criterion='entropy',\n",
       "                       max_depth=9, max_features='auto', max_leaf_nodes=None,\n",
       "                       min_impurity_decrease=0.0, min_impurity_split=None,\n",
       "                       min_samples_leaf=1, min_samples_split=7,\n",
       "                       min_weight_fraction_leaf=0.0, n_estimators=141,\n",
       "                       n_jobs=None, oob_score=False, random_state=88, verbose=0,\n",
       "                       warm_start=False)"
      ]
     },
     "execution_count": 32,
     "metadata": {},
     "output_type": "execute_result"
    }
   ],
   "source": [
    "final_rfm = RandomForestClassifier(n_estimators=141, \n",
    "                                   min_samples_split=7, \n",
    "                                   min_samples_leaf=1,\n",
    "                                   max_depth=9,\n",
    "                                   criterion='entropy', \n",
    "                                  random_state=88)\n",
    "final_rfm.fit(X_train, y_train)"
   ]
  },
  {
   "cell_type": "markdown",
   "metadata": {},
   "source": [
    "#### Test our best random forest model"
   ]
  },
  {
   "cell_type": "code",
   "execution_count": 33,
   "metadata": {},
   "outputs": [
    {
     "data": {
      "text/html": [
       "<div>\n",
       "<style scoped>\n",
       "    .dataframe tbody tr th:only-of-type {\n",
       "        vertical-align: middle;\n",
       "    }\n",
       "\n",
       "    .dataframe tbody tr th {\n",
       "        vertical-align: top;\n",
       "    }\n",
       "\n",
       "    .dataframe thead th {\n",
       "        text-align: right;\n",
       "    }\n",
       "</style>\n",
       "<table border=\"1\" class=\"dataframe\">\n",
       "  <thead>\n",
       "    <tr style=\"text-align: right;\">\n",
       "      <th></th>\n",
       "      <th>predicted 0</th>\n",
       "      <th>predicted 1</th>\n",
       "    </tr>\n",
       "  </thead>\n",
       "  <tbody>\n",
       "    <tr>\n",
       "      <th>actual 0</th>\n",
       "      <td>20225</td>\n",
       "      <td>12040</td>\n",
       "    </tr>\n",
       "    <tr>\n",
       "      <th>actual 1</th>\n",
       "      <td>6933</td>\n",
       "      <td>29713</td>\n",
       "    </tr>\n",
       "  </tbody>\n",
       "</table>\n",
       "</div>"
      ],
      "text/plain": [
       "          predicted 0  predicted 1\n",
       "actual 0        20225        12040\n",
       "actual 1         6933        29713"
      ]
     },
     "execution_count": 33,
     "metadata": {},
     "output_type": "execute_result"
    }
   ],
   "source": [
    "y_pred_rfm = final_rfm.predict(X_test)\n",
    "conf_matrix = pd.DataFrame(confusion_matrix(y_test, y_pred_rfm), \n",
    "                           index = ['actual 0', 'actual 1'], \n",
    "                           columns = ['predicted 0', 'predicted 1'])\n",
    "conf_matrix"
   ]
  },
  {
   "cell_type": "code",
   "execution_count": 34,
   "metadata": {},
   "outputs": [
    {
     "name": "stdout",
     "output_type": "stream",
     "text": [
      "Accuracy of Random Forest Model: 72.46738546821263%\n",
      "Precision of Random Forest Model: 71.16374871266736%\n"
     ]
    }
   ],
   "source": [
    "print('Accuracy of Random Forest Model: {}%'.format(accuracy_score(y_test, y_pred_rfm)*100))\n",
    "print('Precision of Random Forest Model: {}%'.format(precision_score(y_test, y_pred_rfm)*100))"
   ]
  },
  {
   "cell_type": "markdown",
   "metadata": {},
   "source": [
    "### Boosting Models - Adaboost"
   ]
  },
  {
   "cell_type": "markdown",
   "metadata": {},
   "source": [
    "#### Find best parameters "
   ]
  },
  {
   "cell_type": "markdown",
   "metadata": {},
   "source": [
    "```python\n",
    "# set parameters to test in the randomized search \n",
    "params = {'n_estimators': list(np.arange(50, 200, 10))}\n",
    "\n",
    "# instantiate randomized search with Adaboost classifier\n",
    "randomABCV = RandomizedSearchCV(AdaBoostClassifier(), params, cv=5)\n",
    "\n",
    "# fit the model\n",
    "randomABCV.fit(X_train, y_train)\n",
    "\n",
    "# find the best parameters\n",
    "randomABCV.best_params_\n",
    "```"
   ]
  },
  {
   "cell_type": "markdown",
   "metadata": {},
   "source": [
    "#### Train our best adaboost model  "
   ]
  },
  {
   "cell_type": "code",
   "execution_count": 35,
   "metadata": {},
   "outputs": [
    {
     "data": {
      "text/plain": [
       "AdaBoostClassifier(algorithm='SAMME.R', base_estimator=None, learning_rate=1.0,\n",
       "                   n_estimators=190, random_state=88)"
      ]
     },
     "execution_count": 35,
     "metadata": {},
     "output_type": "execute_result"
    }
   ],
   "source": [
    "final_abm = AdaBoostClassifier(n_estimators=190, \n",
    "                              random_state=88)\n",
    "final_abm.fit(X_train, y_train)"
   ]
  },
  {
   "cell_type": "markdown",
   "metadata": {},
   "source": [
    "#### Test our best adaboost model"
   ]
  },
  {
   "cell_type": "code",
   "execution_count": 36,
   "metadata": {},
   "outputs": [
    {
     "data": {
      "text/html": [
       "<div>\n",
       "<style scoped>\n",
       "    .dataframe tbody tr th:only-of-type {\n",
       "        vertical-align: middle;\n",
       "    }\n",
       "\n",
       "    .dataframe tbody tr th {\n",
       "        vertical-align: top;\n",
       "    }\n",
       "\n",
       "    .dataframe thead th {\n",
       "        text-align: right;\n",
       "    }\n",
       "</style>\n",
       "<table border=\"1\" class=\"dataframe\">\n",
       "  <thead>\n",
       "    <tr style=\"text-align: right;\">\n",
       "      <th></th>\n",
       "      <th>predicted 0</th>\n",
       "      <th>predicted 1</th>\n",
       "    </tr>\n",
       "  </thead>\n",
       "  <tbody>\n",
       "    <tr>\n",
       "      <th>actual 0</th>\n",
       "      <td>25555</td>\n",
       "      <td>6710</td>\n",
       "    </tr>\n",
       "    <tr>\n",
       "      <th>actual 1</th>\n",
       "      <td>9432</td>\n",
       "      <td>27214</td>\n",
       "    </tr>\n",
       "  </tbody>\n",
       "</table>\n",
       "</div>"
      ],
      "text/plain": [
       "          predicted 0  predicted 1\n",
       "actual 0        25555         6710\n",
       "actual 1         9432        27214"
      ]
     },
     "execution_count": 36,
     "metadata": {},
     "output_type": "execute_result"
    }
   ],
   "source": [
    "y_pred_ab = final_abm.predict(X_test)\n",
    "conf_matrix = pd.DataFrame(confusion_matrix(y_test, y_pred_ab), \n",
    "                           index = ['actual 0', 'actual 1'], \n",
    "                           columns = ['predicted 0', 'predicted 1'])\n",
    "conf_matrix"
   ]
  },
  {
   "cell_type": "code",
   "execution_count": 37,
   "metadata": {},
   "outputs": [
    {
     "name": "stdout",
     "output_type": "stream",
     "text": [
      "Accuracy of Adaboost Model: 76.5755829983602%\n",
      "Precision of Adaboost Model: 80.22049286640727%\n"
     ]
    }
   ],
   "source": [
    "print('Accuracy of Adaboost Model: {}%'.format(accuracy_score(y_test, y_pred_ab)*100))\n",
    "print('Precision of Adaboost Model: {}%'.format(precision_score(y_test, y_pred_ab)*100))"
   ]
  },
  {
   "cell_type": "markdown",
   "metadata": {},
   "source": [
    "### Logistic Regression Model  "
   ]
  },
  {
   "cell_type": "markdown",
   "metadata": {},
   "source": [
    "```python\n",
    "penalty = ['l1', 'l2']\n",
    "\n",
    "# Create regularization hyperparameter space\n",
    "C = np.logspace(0, 4, 10)\n",
    "\n",
    "# Create hyperparameter options\n",
    "hyperparameters = dict(C=C, penalty=penalty)\n",
    "\n",
    "randomLR = RandomizedSearchCV(LogisticRegression(), hyperparameters, cv=5)\n",
    "randomLR.fit(X_train, y_train)\n",
    "\n",
    "randomLR.best_params_\n",
    "\n",
    "```"
   ]
  },
  {
   "cell_type": "code",
   "execution_count": 38,
   "metadata": {},
   "outputs": [
    {
     "data": {
      "text/plain": [
       "LogisticRegression(C=3593.813663804626, class_weight=None, dual=False,\n",
       "                   fit_intercept=True, intercept_scaling=1, l1_ratio=None,\n",
       "                   max_iter=100, multi_class='warn', n_jobs=None, penalty='l1',\n",
       "                   random_state=88, solver='warn', tol=0.0001, verbose=0,\n",
       "                   warm_start=False)"
      ]
     },
     "execution_count": 38,
     "metadata": {},
     "output_type": "execute_result"
    }
   ],
   "source": [
    "final_lrm = LogisticRegression(penalty='l1', \n",
    "                               C=3593.813663804626, \n",
    "                              random_state=88)\n",
    "final_lrm.fit(X_train, y_train)"
   ]
  },
  {
   "cell_type": "code",
   "execution_count": 39,
   "metadata": {},
   "outputs": [
    {
     "data": {
      "text/html": [
       "<div>\n",
       "<style scoped>\n",
       "    .dataframe tbody tr th:only-of-type {\n",
       "        vertical-align: middle;\n",
       "    }\n",
       "\n",
       "    .dataframe tbody tr th {\n",
       "        vertical-align: top;\n",
       "    }\n",
       "\n",
       "    .dataframe thead th {\n",
       "        text-align: right;\n",
       "    }\n",
       "</style>\n",
       "<table border=\"1\" class=\"dataframe\">\n",
       "  <thead>\n",
       "    <tr style=\"text-align: right;\">\n",
       "      <th></th>\n",
       "      <th>predicted 0</th>\n",
       "      <th>predicted 1</th>\n",
       "    </tr>\n",
       "  </thead>\n",
       "  <tbody>\n",
       "    <tr>\n",
       "      <th>actual 0</th>\n",
       "      <td>25857</td>\n",
       "      <td>6408</td>\n",
       "    </tr>\n",
       "    <tr>\n",
       "      <th>actual 1</th>\n",
       "      <td>10963</td>\n",
       "      <td>25683</td>\n",
       "    </tr>\n",
       "  </tbody>\n",
       "</table>\n",
       "</div>"
      ],
      "text/plain": [
       "          predicted 0  predicted 1\n",
       "actual 0        25857         6408\n",
       "actual 1        10963        25683"
      ]
     },
     "execution_count": 39,
     "metadata": {},
     "output_type": "execute_result"
    }
   ],
   "source": [
    "y_pred_lr = final_lrm.predict(X_test)\n",
    "conf_matrix = pd.DataFrame(confusion_matrix(y_test, y_pred_lr), \n",
    "                           index = ['actual 0', 'actual 1'], \n",
    "                           columns = ['predicted 0', 'predicted 1'])\n",
    "conf_matrix"
   ]
  },
  {
   "cell_type": "code",
   "execution_count": 40,
   "metadata": {},
   "outputs": [
    {
     "name": "stdout",
     "output_type": "stream",
     "text": [
      "Accuracy of Logistic Regression Model: 74.79212317336855%\n",
      "Precision of Logistic Regression Model: 80.03178461250819%\n"
     ]
    }
   ],
   "source": [
    "print('Accuracy of Logistic Regression Model: {}%'.format(accuracy_score(y_test, y_pred_lr)*100))\n",
    "print('Precision of Logistic Regression Model: {}%'.format(precision_score(y_test, y_pred_lr)*100))"
   ]
  },
  {
   "cell_type": "markdown",
   "metadata": {},
   "source": [
    "### Gaussian Naive Bayes"
   ]
  },
  {
   "cell_type": "code",
   "execution_count": 41,
   "metadata": {},
   "outputs": [
    {
     "data": {
      "text/plain": [
       "GaussianNB(priors=None, var_smoothing=1e-09)"
      ]
     },
     "execution_count": 41,
     "metadata": {},
     "output_type": "execute_result"
    }
   ],
   "source": [
    "final_nbG = GaussianNB()\n",
    "final_nbG.fit(X_train, y_train)"
   ]
  },
  {
   "cell_type": "code",
   "execution_count": 42,
   "metadata": {},
   "outputs": [
    {
     "data": {
      "text/html": [
       "<div>\n",
       "<style scoped>\n",
       "    .dataframe tbody tr th:only-of-type {\n",
       "        vertical-align: middle;\n",
       "    }\n",
       "\n",
       "    .dataframe tbody tr th {\n",
       "        vertical-align: top;\n",
       "    }\n",
       "\n",
       "    .dataframe thead th {\n",
       "        text-align: right;\n",
       "    }\n",
       "</style>\n",
       "<table border=\"1\" class=\"dataframe\">\n",
       "  <thead>\n",
       "    <tr style=\"text-align: right;\">\n",
       "      <th></th>\n",
       "      <th>predicted 0</th>\n",
       "      <th>predicted 1</th>\n",
       "    </tr>\n",
       "  </thead>\n",
       "  <tbody>\n",
       "    <tr>\n",
       "      <th>actual 0</th>\n",
       "      <td>25857</td>\n",
       "      <td>6408</td>\n",
       "    </tr>\n",
       "    <tr>\n",
       "      <th>actual 1</th>\n",
       "      <td>10963</td>\n",
       "      <td>25683</td>\n",
       "    </tr>\n",
       "  </tbody>\n",
       "</table>\n",
       "</div>"
      ],
      "text/plain": [
       "          predicted 0  predicted 1\n",
       "actual 0        25857         6408\n",
       "actual 1        10963        25683"
      ]
     },
     "execution_count": 42,
     "metadata": {},
     "output_type": "execute_result"
    }
   ],
   "source": [
    "y_pred_nbg = final_lrm.predict(X_test)\n",
    "conf_matrix = pd.DataFrame(confusion_matrix(y_test, y_pred_nbg), \n",
    "                           index = ['actual 0', 'actual 1'], \n",
    "                           columns = ['predicted 0', 'predicted 1'])\n",
    "conf_matrix"
   ]
  },
  {
   "cell_type": "code",
   "execution_count": 43,
   "metadata": {},
   "outputs": [
    {
     "name": "stdout",
     "output_type": "stream",
     "text": [
      "Accuracy of Gaussian Naive Bayes Model: 74.79212317336855%\n",
      "Precision of Gaussian Naive Bayes Model: 80.03178461250819%\n"
     ]
    }
   ],
   "source": [
    "print('Accuracy of Gaussian Naive Bayes Model: {}%'.format(accuracy_score(y_test, y_pred_nbg)*100))\n",
    "print('Precision of Gaussian Naive Bayes Model: {}%'.format(precision_score(y_test, y_pred_nbg)*100))"
   ]
  },
  {
   "cell_type": "markdown",
   "metadata": {},
   "source": [
    "### Bernoulli Naive Bayes"
   ]
  },
  {
   "cell_type": "code",
   "execution_count": 44,
   "metadata": {
    "scrolled": true
   },
   "outputs": [
    {
     "data": {
      "text/plain": [
       "BernoulliNB(alpha=1.0, binarize=0.0, class_prior=None, fit_prior=True)"
      ]
     },
     "execution_count": 44,
     "metadata": {},
     "output_type": "execute_result"
    }
   ],
   "source": [
    "final_nbB = BernoulliNB()\n",
    "final_nbB.fit(X_train, y_train)"
   ]
  },
  {
   "cell_type": "code",
   "execution_count": 45,
   "metadata": {},
   "outputs": [
    {
     "data": {
      "text/html": [
       "<div>\n",
       "<style scoped>\n",
       "    .dataframe tbody tr th:only-of-type {\n",
       "        vertical-align: middle;\n",
       "    }\n",
       "\n",
       "    .dataframe tbody tr th {\n",
       "        vertical-align: top;\n",
       "    }\n",
       "\n",
       "    .dataframe thead th {\n",
       "        text-align: right;\n",
       "    }\n",
       "</style>\n",
       "<table border=\"1\" class=\"dataframe\">\n",
       "  <thead>\n",
       "    <tr style=\"text-align: right;\">\n",
       "      <th></th>\n",
       "      <th>predicted 0</th>\n",
       "      <th>predicted 1</th>\n",
       "    </tr>\n",
       "  </thead>\n",
       "  <tbody>\n",
       "    <tr>\n",
       "      <th>actual 0</th>\n",
       "      <td>25485</td>\n",
       "      <td>6780</td>\n",
       "    </tr>\n",
       "    <tr>\n",
       "      <th>actual 1</th>\n",
       "      <td>11529</td>\n",
       "      <td>25117</td>\n",
       "    </tr>\n",
       "  </tbody>\n",
       "</table>\n",
       "</div>"
      ],
      "text/plain": [
       "          predicted 0  predicted 1\n",
       "actual 0        25485         6780\n",
       "actual 1        11529        25117"
      ]
     },
     "execution_count": 45,
     "metadata": {},
     "output_type": "execute_result"
    }
   ],
   "source": [
    "y_pred_nbb = final_nbB.predict(X_test)\n",
    "conf_matrix = pd.DataFrame(confusion_matrix(y_test, y_pred_nbb), \n",
    "                           index = ['actual 0', 'actual 1'], \n",
    "                           columns = ['predicted 0', 'predicted 1'])\n",
    "conf_matrix"
   ]
  },
  {
   "cell_type": "code",
   "execution_count": 46,
   "metadata": {},
   "outputs": [
    {
     "name": "stdout",
     "output_type": "stream",
     "text": [
      "Accuracy of Bernoulli Naive Bayes Model: 73.43094716373292%\n",
      "Precision of Bernoulli Naive Bayes Model: 78.74408251559709%\n"
     ]
    }
   ],
   "source": [
    "print('Accuracy of Bernoulli Naive Bayes Model: {}%'.format(accuracy_score(y_test, y_pred_nbb)*100))\n",
    "print('Precision of Bernoulli Naive Bayes Model: {}%'.format(precision_score(y_test, y_pred_nbb)*100))"
   ]
  },
  {
   "cell_type": "markdown",
   "metadata": {},
   "source": [
    "## MODEL SELECTION"
   ]
  },
  {
   "cell_type": "markdown",
   "metadata": {},
   "source": [
    "Because we are interested in maximizing our precision for this particular model we will choose the model with the highest precision score. After testing 6 different learning algorithms and utilizing random grid search to find the best parameters, the Adaboost and bernoulli naive bayes models produced the highest precision score (around 80%). The two gaussian naive bayes models were not far behind with precision scores of around 79% "
   ]
  },
  {
   "cell_type": "code",
   "execution_count": 47,
   "metadata": {
    "scrolled": false
   },
   "outputs": [
    {
     "name": "stdout",
     "output_type": "stream",
     "text": [
      "--------------------DECISION TREE MODEL STATS-----------------------\n",
      "Accuracy score of basic decision tree model: 70.1063690847615%\n",
      "Precision score of basic decision Tree Model: 72.09462436660057%\n",
      "\n",
      "\n",
      "--------------------RANDOM FOREST MODEL STATS-----------------------\n",
      "Accuracy of Random Forest Model: 72.46738546821263%\n",
      "Precision of Random Forest Model: 71.16374871266736%\n",
      "\n",
      "\n",
      "--------------------ADABOOST MODEL STATS-----------------------\n",
      "Accuracy of Adaboost Model: 76.5755829983602%\n",
      "Precision of Adaboost Model: 80.22049286640727%\n",
      "\n",
      "\n",
      "--------------------LOGISTIC REGRESSION MODEL STATS-----------------------\n",
      "Accuracy of Logistic Regression Model: 74.79212317336855%\n",
      "Precision of Logistic Regression Model: 80.03178461250819%\n",
      "\n",
      "\n",
      "--------------------GAUSSIAN NAIVE BAYES MODEL STATS-----------------------\n",
      "Accuracy of Gaussian Naive Bayes Model: 74.79212317336855%\n",
      "Precision of Gaussian Naive Bayes Model: 80.03178461250819%\n",
      "\n",
      "\n",
      "--------------------BERNOULLI NAIVE BAYES MODEL STATS-----------------------\n",
      "Accuracy of Bernoulli Naive Bayes Model: 73.43094716373292%\n",
      "Precision of Bernoulli Naive Bayes Model: 78.74408251559709%\n"
     ]
    }
   ],
   "source": [
    "print('--------------------DECISION TREE MODEL STATS-----------------------')\n",
    "print('Accuracy score of basic decision tree model: {}%'.format(accuracy_score(y_test, y_pred_dt)*100))\n",
    "print('Precision score of basic decision Tree Model: {}%'.format(precision_score(y_test, y_pred_dt)*100))\n",
    "print('\\n')\n",
    "\n",
    "print('--------------------RANDOM FOREST MODEL STATS-----------------------')\n",
    "print('Accuracy of Random Forest Model: {}%'.format(accuracy_score(y_test, y_pred_rfm)*100))\n",
    "print('Precision of Random Forest Model: {}%'.format(precision_score(y_test, y_pred_rfm)*100))\n",
    "print('\\n')\n",
    "\n",
    "print('--------------------ADABOOST MODEL STATS-----------------------')\n",
    "print('Accuracy of Adaboost Model: {}%'.format(accuracy_score(y_test, y_pred_ab)*100))\n",
    "print('Precision of Adaboost Model: {}%'.format(precision_score(y_test, y_pred_ab)*100))\n",
    "print('\\n')\n",
    "\n",
    "print('--------------------LOGISTIC REGRESSION MODEL STATS-----------------------')\n",
    "print('Accuracy of Logistic Regression Model: {}%'.format(accuracy_score(y_test, y_pred_lr)*100))\n",
    "print('Precision of Logistic Regression Model: {}%'.format(precision_score(y_test, y_pred_lr)*100))\n",
    "print('\\n')\n",
    "\n",
    "print('--------------------GAUSSIAN NAIVE BAYES MODEL STATS-----------------------')\n",
    "print('Accuracy of Gaussian Naive Bayes Model: {}%'.format(accuracy_score(y_test, y_pred_nbg)*100))\n",
    "print('Precision of Gaussian Naive Bayes Model: {}%'.format(precision_score(y_test, y_pred_nbg)*100))\n",
    "print('\\n')\n",
    "\n",
    "print('--------------------BERNOULLI NAIVE BAYES MODEL STATS-----------------------')\n",
    "print('Accuracy of Bernoulli Naive Bayes Model: {}%'.format(accuracy_score(y_test, y_pred_nbb)*100))\n",
    "print('Precision of Bernoulli Naive Bayes Model: {}%'.format(precision_score(y_test, y_pred_nbb)*100))"
   ]
  },
  {
   "cell_type": "markdown",
   "metadata": {},
   "source": [
    "## Test run on our two top models"
   ]
  },
  {
   "cell_type": "code",
   "execution_count": 48,
   "metadata": {},
   "outputs": [],
   "source": [
    "import random"
   ]
  },
  {
   "cell_type": "markdown",
   "metadata": {},
   "source": [
    "Let's go back to our original dataset and find the campaigns that were marked as live during the time of data collection. Se first need to import and process the campaigns marked as 'live' from our original dataset. "
   ]
  },
  {
   "cell_type": "code",
   "execution_count": 49,
   "metadata": {},
   "outputs": [],
   "source": [
    "kick_live_proc = kickstarter_live_campaign_data_cleaning(kick_inter)"
   ]
  },
  {
   "cell_type": "markdown",
   "metadata": {},
   "source": [
    "#### Let's make a random list of live campaigns to predict on"
   ]
  },
  {
   "cell_type": "code",
   "execution_count": 50,
   "metadata": {},
   "outputs": [
    {
     "data": {
      "text/html": [
       "<div>\n",
       "<style scoped>\n",
       "    .dataframe tbody tr th:only-of-type {\n",
       "        vertical-align: middle;\n",
       "    }\n",
       "\n",
       "    .dataframe tbody tr th {\n",
       "        vertical-align: top;\n",
       "    }\n",
       "\n",
       "    .dataframe thead th {\n",
       "        text-align: right;\n",
       "    }\n",
       "</style>\n",
       "<table border=\"1\" class=\"dataframe\">\n",
       "  <thead>\n",
       "    <tr style=\"text-align: right;\">\n",
       "      <th></th>\n",
       "      <th>blurb</th>\n",
       "      <th>currency</th>\n",
       "      <th>deadline</th>\n",
       "      <th>goal_original</th>\n",
       "      <th>id</th>\n",
       "      <th>name</th>\n",
       "      <th>target</th>\n",
       "      <th>urls</th>\n",
       "      <th>category</th>\n",
       "      <th>country</th>\n",
       "      <th>year_month</th>\n",
       "      <th>blurb_word_count</th>\n",
       "      <th>campaign_length</th>\n",
       "      <th>delta_created_launched</th>\n",
       "      <th>goal_usd</th>\n",
       "      <th>world_regions</th>\n",
       "    </tr>\n",
       "  </thead>\n",
       "  <tbody>\n",
       "    <tr>\n",
       "      <th>0</th>\n",
       "      <td>Murder, regret and possession push a Pinkerton...</td>\n",
       "      <td>USD</td>\n",
       "      <td>2019-07-30 18:24:36</td>\n",
       "      <td>1000.0</td>\n",
       "      <td>676225315</td>\n",
       "      <td>The Dark Gun #3</td>\n",
       "      <td>live</td>\n",
       "      <td>{\"web\":{\"project\":\"https://www.kickstarter.com...</td>\n",
       "      <td>Comic Books</td>\n",
       "      <td>US</td>\n",
       "      <td>2019-07</td>\n",
       "      <td>22</td>\n",
       "      <td>15</td>\n",
       "      <td>5</td>\n",
       "      <td>1000.000000</td>\n",
       "      <td>Northern America</td>\n",
       "    </tr>\n",
       "    <tr>\n",
       "      <th>1</th>\n",
       "      <td>The online market place for Eco-friendly produ...</td>\n",
       "      <td>GBP</td>\n",
       "      <td>2019-08-03 14:30:00</td>\n",
       "      <td>6995.0</td>\n",
       "      <td>1423959699</td>\n",
       "      <td>Born-Eco. The Eco-friendly market place.</td>\n",
       "      <td>live</td>\n",
       "      <td>{\"web\":{\"project\":\"https://www.kickstarter.com...</td>\n",
       "      <td>Web</td>\n",
       "      <td>GB</td>\n",
       "      <td>2019-06</td>\n",
       "      <td>7</td>\n",
       "      <td>31</td>\n",
       "      <td>26</td>\n",
       "      <td>8700.540906</td>\n",
       "      <td>Northern Europe</td>\n",
       "    </tr>\n",
       "    <tr>\n",
       "      <th>2</th>\n",
       "      <td>A short film about family, love, loss, and ove...</td>\n",
       "      <td>USD</td>\n",
       "      <td>2019-07-31 03:59:00</td>\n",
       "      <td>3000.0</td>\n",
       "      <td>1356843955</td>\n",
       "      <td>Short Film: Leave This</td>\n",
       "      <td>live</td>\n",
       "      <td>{\"web\":{\"project\":\"https://www.kickstarter.com...</td>\n",
       "      <td>Drama</td>\n",
       "      <td>US</td>\n",
       "      <td>2019-06</td>\n",
       "      <td>24</td>\n",
       "      <td>28</td>\n",
       "      <td>3</td>\n",
       "      <td>3000.000000</td>\n",
       "      <td>Northern America</td>\n",
       "    </tr>\n",
       "    <tr>\n",
       "      <th>3</th>\n",
       "      <td>SquashPod® is a simple multi-functional and ad...</td>\n",
       "      <td>GBP</td>\n",
       "      <td>2019-07-28 18:01:13</td>\n",
       "      <td>15000.0</td>\n",
       "      <td>1499346107</td>\n",
       "      <td>SquashPod® - the Original Pocket Container</td>\n",
       "      <td>live</td>\n",
       "      <td>{\"web\":{\"project\":\"https://www.kickstarter.com...</td>\n",
       "      <td>Product Design</td>\n",
       "      <td>GB</td>\n",
       "      <td>2019-05</td>\n",
       "      <td>14</td>\n",
       "      <td>30</td>\n",
       "      <td>28</td>\n",
       "      <td>18622.505700</td>\n",
       "      <td>Northern Europe</td>\n",
       "    </tr>\n",
       "    <tr>\n",
       "      <th>4</th>\n",
       "      <td>An alternative to notoriously filthy shower lo...</td>\n",
       "      <td>USD</td>\n",
       "      <td>2019-08-02 00:00:00</td>\n",
       "      <td>14000.0</td>\n",
       "      <td>1737371411</td>\n",
       "      <td>Sud Stud: A Simple, Intelligently Designed Sho...</td>\n",
       "      <td>live</td>\n",
       "      <td>{\"web\":{\"project\":\"https://www.kickstarter.com...</td>\n",
       "      <td>Gadgets</td>\n",
       "      <td>US</td>\n",
       "      <td>2019-04</td>\n",
       "      <td>18</td>\n",
       "      <td>36</td>\n",
       "      <td>76</td>\n",
       "      <td>14000.000000</td>\n",
       "      <td>Northern America</td>\n",
       "    </tr>\n",
       "    <tr>\n",
       "      <th>5</th>\n",
       "      <td>A streetwear line from Kenya bringing traditio...</td>\n",
       "      <td>GBP</td>\n",
       "      <td>2019-07-21 16:30:06</td>\n",
       "      <td>500.0</td>\n",
       "      <td>464408344</td>\n",
       "      <td>Setutsi: luxury streetwear honouring African h...</td>\n",
       "      <td>live</td>\n",
       "      <td>{\"web\":{\"project\":\"https://www.kickstarter.com...</td>\n",
       "      <td>Fashion</td>\n",
       "      <td>KE</td>\n",
       "      <td>2019-06</td>\n",
       "      <td>14</td>\n",
       "      <td>30</td>\n",
       "      <td>4</td>\n",
       "      <td>621.911430</td>\n",
       "      <td>Eastern Africa</td>\n",
       "    </tr>\n",
       "    <tr>\n",
       "      <th>6</th>\n",
       "      <td>A 500 ml hand blown decanter, encased in 2 sta...</td>\n",
       "      <td>USD</td>\n",
       "      <td>2019-07-22 02:30:00</td>\n",
       "      <td>24000.0</td>\n",
       "      <td>1532230190</td>\n",
       "      <td>Travel Decanter | Preserve Your Whiskey, Cockt...</td>\n",
       "      <td>live</td>\n",
       "      <td>{\"web\":{\"project\":\"https://www.kickstarter.com...</td>\n",
       "      <td>Product Design</td>\n",
       "      <td>US</td>\n",
       "      <td>2019-04</td>\n",
       "      <td>22</td>\n",
       "      <td>33</td>\n",
       "      <td>54</td>\n",
       "      <td>24000.000000</td>\n",
       "      <td>Northern America</td>\n",
       "    </tr>\n",
       "    <tr>\n",
       "      <th>7</th>\n",
       "      <td>Help us bring this inspiring story about gende...</td>\n",
       "      <td>EUR</td>\n",
       "      <td>2019-08-04 10:18:30</td>\n",
       "      <td>15000.0</td>\n",
       "      <td>2098467590</td>\n",
       "      <td>LOTUS SPORTS CLUB - A documentary about LGBTQI...</td>\n",
       "      <td>live</td>\n",
       "      <td>{\"web\":{\"project\":\"https://www.kickstarter.com...</td>\n",
       "      <td>Documentary</td>\n",
       "      <td>KH</td>\n",
       "      <td>2019-05</td>\n",
       "      <td>17</td>\n",
       "      <td>56</td>\n",
       "      <td>38</td>\n",
       "      <td>16940.117850</td>\n",
       "      <td>South-eastern Asia</td>\n",
       "    </tr>\n",
       "    <tr>\n",
       "      <th>8</th>\n",
       "      <td>Help create an eco-friendly surf school that r...</td>\n",
       "      <td>EUR</td>\n",
       "      <td>2019-07-23 13:23:22</td>\n",
       "      <td>31500.0</td>\n",
       "      <td>464038277</td>\n",
       "      <td>Eco Friendly Surf School</td>\n",
       "      <td>live</td>\n",
       "      <td>{\"web\":{\"project\":\"https://www.kickstarter.com...</td>\n",
       "      <td>Civic Design</td>\n",
       "      <td>ES</td>\n",
       "      <td>2018-10</td>\n",
       "      <td>21</td>\n",
       "      <td>50</td>\n",
       "      <td>220</td>\n",
       "      <td>35574.247485</td>\n",
       "      <td>Southern Europe</td>\n",
       "    </tr>\n",
       "    <tr>\n",
       "      <th>9</th>\n",
       "      <td>LA VOZ debe seguir oyéndose porque es un progr...</td>\n",
       "      <td>USD</td>\n",
       "      <td>2019-07-19 10:58:56</td>\n",
       "      <td>85000.0</td>\n",
       "      <td>1207994101</td>\n",
       "      <td>LA VOZ de César Vidal - 2019 / 2020</td>\n",
       "      <td>live</td>\n",
       "      <td>{\"web\":{\"project\":\"https://www.kickstarter.com...</td>\n",
       "      <td>Audio</td>\n",
       "      <td>US</td>\n",
       "      <td>2019-05</td>\n",
       "      <td>21</td>\n",
       "      <td>60</td>\n",
       "      <td>3</td>\n",
       "      <td>85000.000000</td>\n",
       "      <td>Northern America</td>\n",
       "    </tr>\n",
       "  </tbody>\n",
       "</table>\n",
       "</div>"
      ],
      "text/plain": [
       "                                               blurb currency  \\\n",
       "0  Murder, regret and possession push a Pinkerton...      USD   \n",
       "1  The online market place for Eco-friendly produ...      GBP   \n",
       "2  A short film about family, love, loss, and ove...      USD   \n",
       "3  SquashPod® is a simple multi-functional and ad...      GBP   \n",
       "4  An alternative to notoriously filthy shower lo...      USD   \n",
       "5  A streetwear line from Kenya bringing traditio...      GBP   \n",
       "6  A 500 ml hand blown decanter, encased in 2 sta...      USD   \n",
       "7  Help us bring this inspiring story about gende...      EUR   \n",
       "8  Help create an eco-friendly surf school that r...      EUR   \n",
       "9  LA VOZ debe seguir oyéndose porque es un progr...      USD   \n",
       "\n",
       "             deadline  goal_original          id  \\\n",
       "0 2019-07-30 18:24:36         1000.0   676225315   \n",
       "1 2019-08-03 14:30:00         6995.0  1423959699   \n",
       "2 2019-07-31 03:59:00         3000.0  1356843955   \n",
       "3 2019-07-28 18:01:13        15000.0  1499346107   \n",
       "4 2019-08-02 00:00:00        14000.0  1737371411   \n",
       "5 2019-07-21 16:30:06          500.0   464408344   \n",
       "6 2019-07-22 02:30:00        24000.0  1532230190   \n",
       "7 2019-08-04 10:18:30        15000.0  2098467590   \n",
       "8 2019-07-23 13:23:22        31500.0   464038277   \n",
       "9 2019-07-19 10:58:56        85000.0  1207994101   \n",
       "\n",
       "                                                name target  \\\n",
       "0                                    The Dark Gun #3   live   \n",
       "1           Born-Eco. The Eco-friendly market place.   live   \n",
       "2                             Short Film: Leave This   live   \n",
       "3         SquashPod® - the Original Pocket Container   live   \n",
       "4  Sud Stud: A Simple, Intelligently Designed Sho...   live   \n",
       "5  Setutsi: luxury streetwear honouring African h...   live   \n",
       "6  Travel Decanter | Preserve Your Whiskey, Cockt...   live   \n",
       "7  LOTUS SPORTS CLUB - A documentary about LGBTQI...   live   \n",
       "8                           Eco Friendly Surf School   live   \n",
       "9                LA VOZ de César Vidal - 2019 / 2020   live   \n",
       "\n",
       "                                                urls        category country  \\\n",
       "0  {\"web\":{\"project\":\"https://www.kickstarter.com...     Comic Books      US   \n",
       "1  {\"web\":{\"project\":\"https://www.kickstarter.com...             Web      GB   \n",
       "2  {\"web\":{\"project\":\"https://www.kickstarter.com...           Drama      US   \n",
       "3  {\"web\":{\"project\":\"https://www.kickstarter.com...  Product Design      GB   \n",
       "4  {\"web\":{\"project\":\"https://www.kickstarter.com...         Gadgets      US   \n",
       "5  {\"web\":{\"project\":\"https://www.kickstarter.com...         Fashion      KE   \n",
       "6  {\"web\":{\"project\":\"https://www.kickstarter.com...  Product Design      US   \n",
       "7  {\"web\":{\"project\":\"https://www.kickstarter.com...     Documentary      KH   \n",
       "8  {\"web\":{\"project\":\"https://www.kickstarter.com...    Civic Design      ES   \n",
       "9  {\"web\":{\"project\":\"https://www.kickstarter.com...           Audio      US   \n",
       "\n",
       "  year_month  blurb_word_count  campaign_length  delta_created_launched  \\\n",
       "0    2019-07                22               15                       5   \n",
       "1    2019-06                 7               31                      26   \n",
       "2    2019-06                24               28                       3   \n",
       "3    2019-05                14               30                      28   \n",
       "4    2019-04                18               36                      76   \n",
       "5    2019-06                14               30                       4   \n",
       "6    2019-04                22               33                      54   \n",
       "7    2019-05                17               56                      38   \n",
       "8    2018-10                21               50                     220   \n",
       "9    2019-05                21               60                       3   \n",
       "\n",
       "       goal_usd       world_regions  \n",
       "0   1000.000000    Northern America  \n",
       "1   8700.540906     Northern Europe  \n",
       "2   3000.000000    Northern America  \n",
       "3  18622.505700     Northern Europe  \n",
       "4  14000.000000    Northern America  \n",
       "5    621.911430      Eastern Africa  \n",
       "6  24000.000000    Northern America  \n",
       "7  16940.117850  South-eastern Asia  \n",
       "8  35574.247485     Southern Europe  \n",
       "9  85000.000000    Northern America  "
      ]
     },
     "execution_count": 50,
     "metadata": {},
     "output_type": "execute_result"
    }
   ],
   "source": [
    "random.seed(88)\n",
    "list_ids = list(kick_live_proc['id'])\n",
    "ids = random.sample(list_ids, \n",
    "                    10)\n",
    "\n",
    "campaigns_to_predict_on = kick_live_proc.loc[(kick_live_proc['id'].isin(ids))]\n",
    "campaigns_to_predict_on.reset_index(inplace=True, drop=True)\n",
    "campaigns_to_predict_on"
   ]
  },
  {
   "cell_type": "code",
   "execution_count": 51,
   "metadata": {},
   "outputs": [],
   "source": [
    "X_feats = ['category', 'blurb_word_count', 'campaign_length',\n",
    "           'delta_created_launched', 'goal_usd', 'world_regions']\n",
    "X_live_pred = pd.get_dummies(campaigns_to_predict_on[X_feats])\n",
    "final_model_features = list(X.columns)"
   ]
  },
  {
   "cell_type": "code",
   "execution_count": 52,
   "metadata": {},
   "outputs": [],
   "source": [
    "X_lp_final = prepare_missing_adaboost_columns(X_live_pred, final_model_features, 10)"
   ]
  },
  {
   "cell_type": "code",
   "execution_count": 54,
   "metadata": {},
   "outputs": [
    {
     "data": {
      "text/html": [
       "<div>\n",
       "<style scoped>\n",
       "    .dataframe tbody tr th:only-of-type {\n",
       "        vertical-align: middle;\n",
       "    }\n",
       "\n",
       "    .dataframe tbody tr th {\n",
       "        vertical-align: top;\n",
       "    }\n",
       "\n",
       "    .dataframe thead th {\n",
       "        text-align: right;\n",
       "    }\n",
       "</style>\n",
       "<table border=\"1\" class=\"dataframe\">\n",
       "  <thead>\n",
       "    <tr style=\"text-align: right;\">\n",
       "      <th></th>\n",
       "      <th>id</th>\n",
       "      <th>urls</th>\n",
       "      <th>name</th>\n",
       "      <th>category</th>\n",
       "      <th>year_month</th>\n",
       "      <th>goal_usd</th>\n",
       "      <th>predictions</th>\n",
       "    </tr>\n",
       "  </thead>\n",
       "  <tbody>\n",
       "    <tr>\n",
       "      <th>0</th>\n",
       "      <td>676225315</td>\n",
       "      <td>{\"web\":{\"project\":\"https://www.kickstarter.com...</td>\n",
       "      <td>The Dark Gun #3</td>\n",
       "      <td>Comic Books</td>\n",
       "      <td>2019-07</td>\n",
       "      <td>1000.000000</td>\n",
       "      <td>0</td>\n",
       "    </tr>\n",
       "    <tr>\n",
       "      <th>1</th>\n",
       "      <td>1423959699</td>\n",
       "      <td>{\"web\":{\"project\":\"https://www.kickstarter.com...</td>\n",
       "      <td>Born-Eco. The Eco-friendly market place.</td>\n",
       "      <td>Web</td>\n",
       "      <td>2019-06</td>\n",
       "      <td>8700.540906</td>\n",
       "      <td>1</td>\n",
       "    </tr>\n",
       "    <tr>\n",
       "      <th>2</th>\n",
       "      <td>1356843955</td>\n",
       "      <td>{\"web\":{\"project\":\"https://www.kickstarter.com...</td>\n",
       "      <td>Short Film: Leave This</td>\n",
       "      <td>Drama</td>\n",
       "      <td>2019-06</td>\n",
       "      <td>3000.000000</td>\n",
       "      <td>0</td>\n",
       "    </tr>\n",
       "    <tr>\n",
       "      <th>3</th>\n",
       "      <td>1499346107</td>\n",
       "      <td>{\"web\":{\"project\":\"https://www.kickstarter.com...</td>\n",
       "      <td>SquashPod® - the Original Pocket Container</td>\n",
       "      <td>Product Design</td>\n",
       "      <td>2019-05</td>\n",
       "      <td>18622.505700</td>\n",
       "      <td>1</td>\n",
       "    </tr>\n",
       "    <tr>\n",
       "      <th>4</th>\n",
       "      <td>1737371411</td>\n",
       "      <td>{\"web\":{\"project\":\"https://www.kickstarter.com...</td>\n",
       "      <td>Sud Stud: A Simple, Intelligently Designed Sho...</td>\n",
       "      <td>Gadgets</td>\n",
       "      <td>2019-04</td>\n",
       "      <td>14000.000000</td>\n",
       "      <td>0</td>\n",
       "    </tr>\n",
       "    <tr>\n",
       "      <th>5</th>\n",
       "      <td>464408344</td>\n",
       "      <td>{\"web\":{\"project\":\"https://www.kickstarter.com...</td>\n",
       "      <td>Setutsi: luxury streetwear honouring African h...</td>\n",
       "      <td>Fashion</td>\n",
       "      <td>2019-06</td>\n",
       "      <td>621.911430</td>\n",
       "      <td>0</td>\n",
       "    </tr>\n",
       "    <tr>\n",
       "      <th>6</th>\n",
       "      <td>1532230190</td>\n",
       "      <td>{\"web\":{\"project\":\"https://www.kickstarter.com...</td>\n",
       "      <td>Travel Decanter | Preserve Your Whiskey, Cockt...</td>\n",
       "      <td>Product Design</td>\n",
       "      <td>2019-04</td>\n",
       "      <td>24000.000000</td>\n",
       "      <td>1</td>\n",
       "    </tr>\n",
       "    <tr>\n",
       "      <th>7</th>\n",
       "      <td>2098467590</td>\n",
       "      <td>{\"web\":{\"project\":\"https://www.kickstarter.com...</td>\n",
       "      <td>LOTUS SPORTS CLUB - A documentary about LGBTQI...</td>\n",
       "      <td>Documentary</td>\n",
       "      <td>2019-05</td>\n",
       "      <td>16940.117850</td>\n",
       "      <td>1</td>\n",
       "    </tr>\n",
       "    <tr>\n",
       "      <th>8</th>\n",
       "      <td>464038277</td>\n",
       "      <td>{\"web\":{\"project\":\"https://www.kickstarter.com...</td>\n",
       "      <td>Eco Friendly Surf School</td>\n",
       "      <td>Civic Design</td>\n",
       "      <td>2018-10</td>\n",
       "      <td>35574.247485</td>\n",
       "      <td>0</td>\n",
       "    </tr>\n",
       "    <tr>\n",
       "      <th>9</th>\n",
       "      <td>1207994101</td>\n",
       "      <td>{\"web\":{\"project\":\"https://www.kickstarter.com...</td>\n",
       "      <td>LA VOZ de César Vidal - 2019 / 2020</td>\n",
       "      <td>Audio</td>\n",
       "      <td>2019-05</td>\n",
       "      <td>85000.000000</td>\n",
       "      <td>0</td>\n",
       "    </tr>\n",
       "  </tbody>\n",
       "</table>\n",
       "</div>"
      ],
      "text/plain": [
       "           id                                               urls  \\\n",
       "0   676225315  {\"web\":{\"project\":\"https://www.kickstarter.com...   \n",
       "1  1423959699  {\"web\":{\"project\":\"https://www.kickstarter.com...   \n",
       "2  1356843955  {\"web\":{\"project\":\"https://www.kickstarter.com...   \n",
       "3  1499346107  {\"web\":{\"project\":\"https://www.kickstarter.com...   \n",
       "4  1737371411  {\"web\":{\"project\":\"https://www.kickstarter.com...   \n",
       "5   464408344  {\"web\":{\"project\":\"https://www.kickstarter.com...   \n",
       "6  1532230190  {\"web\":{\"project\":\"https://www.kickstarter.com...   \n",
       "7  2098467590  {\"web\":{\"project\":\"https://www.kickstarter.com...   \n",
       "8   464038277  {\"web\":{\"project\":\"https://www.kickstarter.com...   \n",
       "9  1207994101  {\"web\":{\"project\":\"https://www.kickstarter.com...   \n",
       "\n",
       "                                                name        category  \\\n",
       "0                                    The Dark Gun #3     Comic Books   \n",
       "1           Born-Eco. The Eco-friendly market place.             Web   \n",
       "2                             Short Film: Leave This           Drama   \n",
       "3         SquashPod® - the Original Pocket Container  Product Design   \n",
       "4  Sud Stud: A Simple, Intelligently Designed Sho...         Gadgets   \n",
       "5  Setutsi: luxury streetwear honouring African h...         Fashion   \n",
       "6  Travel Decanter | Preserve Your Whiskey, Cockt...  Product Design   \n",
       "7  LOTUS SPORTS CLUB - A documentary about LGBTQI...     Documentary   \n",
       "8                           Eco Friendly Surf School    Civic Design   \n",
       "9                LA VOZ de César Vidal - 2019 / 2020           Audio   \n",
       "\n",
       "  year_month      goal_usd  predictions  \n",
       "0    2019-07   1000.000000            0  \n",
       "1    2019-06   8700.540906            1  \n",
       "2    2019-06   3000.000000            0  \n",
       "3    2019-05  18622.505700            1  \n",
       "4    2019-04  14000.000000            0  \n",
       "5    2019-06    621.911430            0  \n",
       "6    2019-04  24000.000000            1  \n",
       "7    2019-05  16940.117850            1  \n",
       "8    2018-10  35574.247485            0  \n",
       "9    2019-05  85000.000000            0  "
      ]
     },
     "execution_count": 54,
     "metadata": {},
     "output_type": "execute_result"
    }
   ],
   "source": [
    "y_pred_live = final_nbB.predict(X_lp_final)\n",
    "campaigns_to_predict_on['predictions'] = y_pred_live\n",
    "campaigns_to_predict_on[['id', 'urls','name', 'category', 'year_month', 'goal_usd', 'predictions']]"
   ]
  },
  {
   "cell_type": "code",
   "execution_count": 55,
   "metadata": {},
   "outputs": [],
   "source": [
    "# went through all campaign links (found in URL column) and checked the real world outcome of each cammpaigne44sw\n",
    "outcomes = [1, 0, 0, np.nan, 1, 0, 1, 1, 0, 1]\n",
    "campaigns_to_predict_on['outcomes'] = outcomes"
   ]
  },
  {
   "cell_type": "code",
   "execution_count": 56,
   "metadata": {},
   "outputs": [
    {
     "data": {
      "text/html": [
       "<div>\n",
       "<style scoped>\n",
       "    .dataframe tbody tr th:only-of-type {\n",
       "        vertical-align: middle;\n",
       "    }\n",
       "\n",
       "    .dataframe tbody tr th {\n",
       "        vertical-align: top;\n",
       "    }\n",
       "\n",
       "    .dataframe thead th {\n",
       "        text-align: right;\n",
       "    }\n",
       "</style>\n",
       "<table border=\"1\" class=\"dataframe\">\n",
       "  <thead>\n",
       "    <tr style=\"text-align: right;\">\n",
       "      <th></th>\n",
       "      <th>blurb</th>\n",
       "      <th>currency</th>\n",
       "      <th>deadline</th>\n",
       "      <th>goal_original</th>\n",
       "      <th>id</th>\n",
       "      <th>name</th>\n",
       "      <th>target</th>\n",
       "      <th>urls</th>\n",
       "      <th>category</th>\n",
       "      <th>country</th>\n",
       "      <th>year_month</th>\n",
       "      <th>blurb_word_count</th>\n",
       "      <th>campaign_length</th>\n",
       "      <th>delta_created_launched</th>\n",
       "      <th>goal_usd</th>\n",
       "      <th>world_regions</th>\n",
       "      <th>predictions</th>\n",
       "      <th>outcomes</th>\n",
       "    </tr>\n",
       "  </thead>\n",
       "  <tbody>\n",
       "    <tr>\n",
       "      <th>0</th>\n",
       "      <td>Murder, regret and possession push a Pinkerton...</td>\n",
       "      <td>USD</td>\n",
       "      <td>2019-07-30 18:24:36</td>\n",
       "      <td>1000.0</td>\n",
       "      <td>676225315</td>\n",
       "      <td>The Dark Gun #3</td>\n",
       "      <td>live</td>\n",
       "      <td>{\"web\":{\"project\":\"https://www.kickstarter.com...</td>\n",
       "      <td>Comic Books</td>\n",
       "      <td>US</td>\n",
       "      <td>2019-07</td>\n",
       "      <td>22</td>\n",
       "      <td>15</td>\n",
       "      <td>5</td>\n",
       "      <td>1000.000000</td>\n",
       "      <td>Northern America</td>\n",
       "      <td>0</td>\n",
       "      <td>1.0</td>\n",
       "    </tr>\n",
       "    <tr>\n",
       "      <th>1</th>\n",
       "      <td>The online market place for Eco-friendly produ...</td>\n",
       "      <td>GBP</td>\n",
       "      <td>2019-08-03 14:30:00</td>\n",
       "      <td>6995.0</td>\n",
       "      <td>1423959699</td>\n",
       "      <td>Born-Eco. The Eco-friendly market place.</td>\n",
       "      <td>live</td>\n",
       "      <td>{\"web\":{\"project\":\"https://www.kickstarter.com...</td>\n",
       "      <td>Web</td>\n",
       "      <td>GB</td>\n",
       "      <td>2019-06</td>\n",
       "      <td>7</td>\n",
       "      <td>31</td>\n",
       "      <td>26</td>\n",
       "      <td>8700.540906</td>\n",
       "      <td>Northern Europe</td>\n",
       "      <td>1</td>\n",
       "      <td>0.0</td>\n",
       "    </tr>\n",
       "    <tr>\n",
       "      <th>2</th>\n",
       "      <td>A short film about family, love, loss, and ove...</td>\n",
       "      <td>USD</td>\n",
       "      <td>2019-07-31 03:59:00</td>\n",
       "      <td>3000.0</td>\n",
       "      <td>1356843955</td>\n",
       "      <td>Short Film: Leave This</td>\n",
       "      <td>live</td>\n",
       "      <td>{\"web\":{\"project\":\"https://www.kickstarter.com...</td>\n",
       "      <td>Drama</td>\n",
       "      <td>US</td>\n",
       "      <td>2019-06</td>\n",
       "      <td>24</td>\n",
       "      <td>28</td>\n",
       "      <td>3</td>\n",
       "      <td>3000.000000</td>\n",
       "      <td>Northern America</td>\n",
       "      <td>0</td>\n",
       "      <td>0.0</td>\n",
       "    </tr>\n",
       "    <tr>\n",
       "      <th>3</th>\n",
       "      <td>SquashPod® is a simple multi-functional and ad...</td>\n",
       "      <td>GBP</td>\n",
       "      <td>2019-07-28 18:01:13</td>\n",
       "      <td>15000.0</td>\n",
       "      <td>1499346107</td>\n",
       "      <td>SquashPod® - the Original Pocket Container</td>\n",
       "      <td>live</td>\n",
       "      <td>{\"web\":{\"project\":\"https://www.kickstarter.com...</td>\n",
       "      <td>Product Design</td>\n",
       "      <td>GB</td>\n",
       "      <td>2019-05</td>\n",
       "      <td>14</td>\n",
       "      <td>30</td>\n",
       "      <td>28</td>\n",
       "      <td>18622.505700</td>\n",
       "      <td>Northern Europe</td>\n",
       "      <td>1</td>\n",
       "      <td>NaN</td>\n",
       "    </tr>\n",
       "    <tr>\n",
       "      <th>4</th>\n",
       "      <td>An alternative to notoriously filthy shower lo...</td>\n",
       "      <td>USD</td>\n",
       "      <td>2019-08-02 00:00:00</td>\n",
       "      <td>14000.0</td>\n",
       "      <td>1737371411</td>\n",
       "      <td>Sud Stud: A Simple, Intelligently Designed Sho...</td>\n",
       "      <td>live</td>\n",
       "      <td>{\"web\":{\"project\":\"https://www.kickstarter.com...</td>\n",
       "      <td>Gadgets</td>\n",
       "      <td>US</td>\n",
       "      <td>2019-04</td>\n",
       "      <td>18</td>\n",
       "      <td>36</td>\n",
       "      <td>76</td>\n",
       "      <td>14000.000000</td>\n",
       "      <td>Northern America</td>\n",
       "      <td>0</td>\n",
       "      <td>1.0</td>\n",
       "    </tr>\n",
       "    <tr>\n",
       "      <th>5</th>\n",
       "      <td>A streetwear line from Kenya bringing traditio...</td>\n",
       "      <td>GBP</td>\n",
       "      <td>2019-07-21 16:30:06</td>\n",
       "      <td>500.0</td>\n",
       "      <td>464408344</td>\n",
       "      <td>Setutsi: luxury streetwear honouring African h...</td>\n",
       "      <td>live</td>\n",
       "      <td>{\"web\":{\"project\":\"https://www.kickstarter.com...</td>\n",
       "      <td>Fashion</td>\n",
       "      <td>KE</td>\n",
       "      <td>2019-06</td>\n",
       "      <td>14</td>\n",
       "      <td>30</td>\n",
       "      <td>4</td>\n",
       "      <td>621.911430</td>\n",
       "      <td>Eastern Africa</td>\n",
       "      <td>0</td>\n",
       "      <td>0.0</td>\n",
       "    </tr>\n",
       "    <tr>\n",
       "      <th>6</th>\n",
       "      <td>A 500 ml hand blown decanter, encased in 2 sta...</td>\n",
       "      <td>USD</td>\n",
       "      <td>2019-07-22 02:30:00</td>\n",
       "      <td>24000.0</td>\n",
       "      <td>1532230190</td>\n",
       "      <td>Travel Decanter | Preserve Your Whiskey, Cockt...</td>\n",
       "      <td>live</td>\n",
       "      <td>{\"web\":{\"project\":\"https://www.kickstarter.com...</td>\n",
       "      <td>Product Design</td>\n",
       "      <td>US</td>\n",
       "      <td>2019-04</td>\n",
       "      <td>22</td>\n",
       "      <td>33</td>\n",
       "      <td>54</td>\n",
       "      <td>24000.000000</td>\n",
       "      <td>Northern America</td>\n",
       "      <td>1</td>\n",
       "      <td>1.0</td>\n",
       "    </tr>\n",
       "    <tr>\n",
       "      <th>7</th>\n",
       "      <td>Help us bring this inspiring story about gende...</td>\n",
       "      <td>EUR</td>\n",
       "      <td>2019-08-04 10:18:30</td>\n",
       "      <td>15000.0</td>\n",
       "      <td>2098467590</td>\n",
       "      <td>LOTUS SPORTS CLUB - A documentary about LGBTQI...</td>\n",
       "      <td>live</td>\n",
       "      <td>{\"web\":{\"project\":\"https://www.kickstarter.com...</td>\n",
       "      <td>Documentary</td>\n",
       "      <td>KH</td>\n",
       "      <td>2019-05</td>\n",
       "      <td>17</td>\n",
       "      <td>56</td>\n",
       "      <td>38</td>\n",
       "      <td>16940.117850</td>\n",
       "      <td>South-eastern Asia</td>\n",
       "      <td>1</td>\n",
       "      <td>1.0</td>\n",
       "    </tr>\n",
       "    <tr>\n",
       "      <th>8</th>\n",
       "      <td>Help create an eco-friendly surf school that r...</td>\n",
       "      <td>EUR</td>\n",
       "      <td>2019-07-23 13:23:22</td>\n",
       "      <td>31500.0</td>\n",
       "      <td>464038277</td>\n",
       "      <td>Eco Friendly Surf School</td>\n",
       "      <td>live</td>\n",
       "      <td>{\"web\":{\"project\":\"https://www.kickstarter.com...</td>\n",
       "      <td>Civic Design</td>\n",
       "      <td>ES</td>\n",
       "      <td>2018-10</td>\n",
       "      <td>21</td>\n",
       "      <td>50</td>\n",
       "      <td>220</td>\n",
       "      <td>35574.247485</td>\n",
       "      <td>Southern Europe</td>\n",
       "      <td>0</td>\n",
       "      <td>0.0</td>\n",
       "    </tr>\n",
       "    <tr>\n",
       "      <th>9</th>\n",
       "      <td>LA VOZ debe seguir oyéndose porque es un progr...</td>\n",
       "      <td>USD</td>\n",
       "      <td>2019-07-19 10:58:56</td>\n",
       "      <td>85000.0</td>\n",
       "      <td>1207994101</td>\n",
       "      <td>LA VOZ de César Vidal - 2019 / 2020</td>\n",
       "      <td>live</td>\n",
       "      <td>{\"web\":{\"project\":\"https://www.kickstarter.com...</td>\n",
       "      <td>Audio</td>\n",
       "      <td>US</td>\n",
       "      <td>2019-05</td>\n",
       "      <td>21</td>\n",
       "      <td>60</td>\n",
       "      <td>3</td>\n",
       "      <td>85000.000000</td>\n",
       "      <td>Northern America</td>\n",
       "      <td>0</td>\n",
       "      <td>1.0</td>\n",
       "    </tr>\n",
       "  </tbody>\n",
       "</table>\n",
       "</div>"
      ],
      "text/plain": [
       "                                               blurb currency  \\\n",
       "0  Murder, regret and possession push a Pinkerton...      USD   \n",
       "1  The online market place for Eco-friendly produ...      GBP   \n",
       "2  A short film about family, love, loss, and ove...      USD   \n",
       "3  SquashPod® is a simple multi-functional and ad...      GBP   \n",
       "4  An alternative to notoriously filthy shower lo...      USD   \n",
       "5  A streetwear line from Kenya bringing traditio...      GBP   \n",
       "6  A 500 ml hand blown decanter, encased in 2 sta...      USD   \n",
       "7  Help us bring this inspiring story about gende...      EUR   \n",
       "8  Help create an eco-friendly surf school that r...      EUR   \n",
       "9  LA VOZ debe seguir oyéndose porque es un progr...      USD   \n",
       "\n",
       "             deadline  goal_original          id  \\\n",
       "0 2019-07-30 18:24:36         1000.0   676225315   \n",
       "1 2019-08-03 14:30:00         6995.0  1423959699   \n",
       "2 2019-07-31 03:59:00         3000.0  1356843955   \n",
       "3 2019-07-28 18:01:13        15000.0  1499346107   \n",
       "4 2019-08-02 00:00:00        14000.0  1737371411   \n",
       "5 2019-07-21 16:30:06          500.0   464408344   \n",
       "6 2019-07-22 02:30:00        24000.0  1532230190   \n",
       "7 2019-08-04 10:18:30        15000.0  2098467590   \n",
       "8 2019-07-23 13:23:22        31500.0   464038277   \n",
       "9 2019-07-19 10:58:56        85000.0  1207994101   \n",
       "\n",
       "                                                name target  \\\n",
       "0                                    The Dark Gun #3   live   \n",
       "1           Born-Eco. The Eco-friendly market place.   live   \n",
       "2                             Short Film: Leave This   live   \n",
       "3         SquashPod® - the Original Pocket Container   live   \n",
       "4  Sud Stud: A Simple, Intelligently Designed Sho...   live   \n",
       "5  Setutsi: luxury streetwear honouring African h...   live   \n",
       "6  Travel Decanter | Preserve Your Whiskey, Cockt...   live   \n",
       "7  LOTUS SPORTS CLUB - A documentary about LGBTQI...   live   \n",
       "8                           Eco Friendly Surf School   live   \n",
       "9                LA VOZ de César Vidal - 2019 / 2020   live   \n",
       "\n",
       "                                                urls        category country  \\\n",
       "0  {\"web\":{\"project\":\"https://www.kickstarter.com...     Comic Books      US   \n",
       "1  {\"web\":{\"project\":\"https://www.kickstarter.com...             Web      GB   \n",
       "2  {\"web\":{\"project\":\"https://www.kickstarter.com...           Drama      US   \n",
       "3  {\"web\":{\"project\":\"https://www.kickstarter.com...  Product Design      GB   \n",
       "4  {\"web\":{\"project\":\"https://www.kickstarter.com...         Gadgets      US   \n",
       "5  {\"web\":{\"project\":\"https://www.kickstarter.com...         Fashion      KE   \n",
       "6  {\"web\":{\"project\":\"https://www.kickstarter.com...  Product Design      US   \n",
       "7  {\"web\":{\"project\":\"https://www.kickstarter.com...     Documentary      KH   \n",
       "8  {\"web\":{\"project\":\"https://www.kickstarter.com...    Civic Design      ES   \n",
       "9  {\"web\":{\"project\":\"https://www.kickstarter.com...           Audio      US   \n",
       "\n",
       "  year_month  blurb_word_count  campaign_length  delta_created_launched  \\\n",
       "0    2019-07                22               15                       5   \n",
       "1    2019-06                 7               31                      26   \n",
       "2    2019-06                24               28                       3   \n",
       "3    2019-05                14               30                      28   \n",
       "4    2019-04                18               36                      76   \n",
       "5    2019-06                14               30                       4   \n",
       "6    2019-04                22               33                      54   \n",
       "7    2019-05                17               56                      38   \n",
       "8    2018-10                21               50                     220   \n",
       "9    2019-05                21               60                       3   \n",
       "\n",
       "       goal_usd       world_regions  predictions  outcomes  \n",
       "0   1000.000000    Northern America            0       1.0  \n",
       "1   8700.540906     Northern Europe            1       0.0  \n",
       "2   3000.000000    Northern America            0       0.0  \n",
       "3  18622.505700     Northern Europe            1       NaN  \n",
       "4  14000.000000    Northern America            0       1.0  \n",
       "5    621.911430      Eastern Africa            0       0.0  \n",
       "6  24000.000000    Northern America            1       1.0  \n",
       "7  16940.117850  South-eastern Asia            1       1.0  \n",
       "8  35574.247485     Southern Europe            0       0.0  \n",
       "9  85000.000000    Northern America            0       1.0  "
      ]
     },
     "execution_count": 56,
     "metadata": {},
     "output_type": "execute_result"
    }
   ],
   "source": [
    "campaigns_to_predict_on"
   ]
  },
  {
   "cell_type": "code",
   "execution_count": 57,
   "metadata": {},
   "outputs": [
    {
     "name": "stdout",
     "output_type": "stream",
     "text": [
      "Overall accuracy of \"live\" predictions: 55.55555555555556%\n",
      "Ratio of of actually successful campaings out of total number of campaings predicted to be successful: 2/3\n"
     ]
    }
   ],
   "source": [
    "print('Overall accuracy of \"live\" predictions: {}%'.format((5/9)*100))\n",
    "print('Ratio of of actually successful campaings out of total number of campaings predicted to be successful: 2/3')"
   ]
  },
  {
   "cell_type": "markdown",
   "metadata": {},
   "source": [
    "## CONCLUSION & NEXT STEPS "
   ]
  },
  {
   "cell_type": "markdown",
   "metadata": {},
   "source": [
    "Although our chosen model had an accuracy of around 80% on our test dataset, the accuracy of our final model on a small sample of real world data was only 55%. One positive note was that out of the three campaigns our model predicted to be successful, 2 of them were indeed successful. "
   ]
  }
 ],
 "metadata": {
  "kernelspec": {
   "display_name": "Python 3",
   "language": "python",
   "name": "python3"
  },
  "language_info": {
   "codemirror_mode": {
    "name": "ipython",
    "version": 3
   },
   "file_extension": ".py",
   "mimetype": "text/x-python",
   "name": "python",
   "nbconvert_exporter": "python",
   "pygments_lexer": "ipython3",
   "version": "3.7.3"
  },
  "toc": {
   "base_numbering": 1,
   "nav_menu": {},
   "number_sections": true,
   "sideBar": true,
   "skip_h1_title": true,
   "title_cell": "Table of Contents",
   "title_sidebar": "Contents",
   "toc_cell": false,
   "toc_position": {
    "height": "calc(100% - 180px)",
    "left": "10px",
    "top": "150px",
    "width": "310.208px"
   },
   "toc_section_display": true,
   "toc_window_display": true
  }
 },
 "nbformat": 4,
 "nbformat_minor": 2
}
